{
  "cells": [
    {
      "cell_type": "code",
      "execution_count": null,
      "metadata": {
        "colab": {
          "base_uri": "https://localhost:8080/"
        },
        "id": "t2k4wwjxHLjH",
        "outputId": "3c2fa150-2a56-45fa-b7ba-f591156bdf22"
      },
      "outputs": [
        {
          "output_type": "stream",
          "name": "stdout",
          "text": [
            "Thu Nov 21 06:50:50 2024       \n",
            "+---------------------------------------------------------------------------------------+\n",
            "| NVIDIA-SMI 535.104.05             Driver Version: 535.104.05   CUDA Version: 12.2     |\n",
            "|-----------------------------------------+----------------------+----------------------+\n",
            "| GPU  Name                 Persistence-M | Bus-Id        Disp.A | Volatile Uncorr. ECC |\n",
            "| Fan  Temp   Perf          Pwr:Usage/Cap |         Memory-Usage | GPU-Util  Compute M. |\n",
            "|                                         |                      |               MIG M. |\n",
            "|=========================================+======================+======================|\n",
            "|   0  Tesla T4                       Off | 00000000:00:04.0 Off |                    0 |\n",
            "| N/A   57C    P8              12W /  70W |      0MiB / 15360MiB |      0%      Default |\n",
            "|                                         |                      |                  N/A |\n",
            "+-----------------------------------------+----------------------+----------------------+\n",
            "                                                                                         \n",
            "+---------------------------------------------------------------------------------------+\n",
            "| Processes:                                                                            |\n",
            "|  GPU   GI   CI        PID   Type   Process name                            GPU Memory |\n",
            "|        ID   ID                                                             Usage      |\n",
            "|=======================================================================================|\n",
            "|  No running processes found                                                           |\n",
            "+---------------------------------------------------------------------------------------+\n"
          ]
        }
      ],
      "source": [
        "!nvidia-smi"
      ]
    },
    {
      "cell_type": "markdown",
      "metadata": {
        "id": "_x5nFSN2HH5F"
      },
      "source": [
        "# Get content"
      ]
    },
    {
      "cell_type": "code",
      "execution_count": null,
      "metadata": {
        "id": "hz1f7LPiHads",
        "colab": {
          "base_uri": "https://localhost:8080/"
        },
        "outputId": "13cf67d3-5fe1-441e-8733-3a7a26845a54"
      },
      "outputs": [
        {
          "output_type": "stream",
          "name": "stdout",
          "text": [
            "\u001b[2K   \u001b[90m━━━━━━━━━━━━━━━━━━━━━━━━━━━━━━━━━━━━━━━━\u001b[0m \u001b[32m27.5/27.5 MB\u001b[0m \u001b[31m59.3 MB/s\u001b[0m eta \u001b[36m0:00:00\u001b[0m\n",
            "\u001b[?25h"
          ]
        }
      ],
      "source": [
        "!pip install faiss-cpu -q\n",
        "!pip install beautifulsoup4 -q"
      ]
    },
    {
      "cell_type": "code",
      "execution_count": 116,
      "metadata": {
        "id": "7B7GagRZHH5H"
      },
      "outputs": [],
      "source": [
        "from bs4 import BeautifulSoup\n",
        "import requests\n",
        "\n",
        "query = \"RAG system?\"\n",
        "\n",
        "\n",
        "url = f\"https://www.google.com/search?q={query.replace(' ', '+')}\"\n",
        "\n",
        "headers = {\n",
        "    \"User-Agent\": \"Mozilla/5.0 (Windows NT 10.0; Win64; x64) AppleWebKit/537.36 (KHTML, like Gecko) Chrome/58.0.3029.110 Safari/537.3\"\n",
        "}\n",
        "\n",
        "response = requests.get(url, headers=headers)\n",
        "\n",
        "if response.status_code == 200:\n",
        "    soup = BeautifulSoup(response.text, 'html.parser')\n",
        "    urls = []\n",
        "    gfg = 0\n",
        "    for g in soup.find_all('a'):\n",
        "        href = g.get('href')\n",
        "        if href and \"/url?esrc=s&q=&rct=j&sa=U&url=\" in href:\n",
        "            link = href.split(\"/url?esrc=s&q=&rct=j&sa=U&url=\")[1].split(\"&\")[0]\n",
        "            #print(link)\n",
        "            #if (link.split(\"https://\")[1].split(\".\")[0] != \"scholar\"):\n",
        "            urls.append(link)\n",
        "else:\n",
        "    print(\"Failed to fetch results\")\n",
        "\n"
      ]
    },
    {
      "cell_type": "code",
      "source": [
        "len(urls)"
      ],
      "metadata": {
        "colab": {
          "base_uri": "https://localhost:8080/"
        },
        "id": "bsEyhNksCOOO",
        "outputId": "4ba30eb4-894d-4cfd-c592-ca8eeed2b183"
      },
      "execution_count": 117,
      "outputs": [
        {
          "output_type": "execute_result",
          "data": {
            "text/plain": [
              "17"
            ]
          },
          "metadata": {},
          "execution_count": 117
        }
      ]
    },
    {
      "cell_type": "code",
      "source": [
        "urls"
      ],
      "metadata": {
        "colab": {
          "base_uri": "https://localhost:8080/"
        },
        "id": "WUu0I5HcVET3",
        "outputId": "5b22679d-190f-4ef9-8532-d29f35fe265c"
      },
      "execution_count": 118,
      "outputs": [
        {
          "output_type": "execute_result",
          "data": {
            "text/plain": [
              "['https://cloud.google.com/use-cases/retrieval-augmented-generation',\n",
              " 'https://aws.amazon.com/what-is/retrieval-augmented-generation/',\n",
              " 'https://www.oracle.com/artificial-intelligence/generative-ai/retrieval-augmented-generation-rag/',\n",
              " 'https://www.oracle.com/ie/artificial-intelligence/generative-ai/retrieval-augmented-generation-rag/',\n",
              " 'https://www.oracle.com/in/artificial-intelligence/generative-ai/retrieval-augmented-generation-rag/',\n",
              " 'https://www.oracle.com/sg/artificial-intelligence/generative-ai/retrieval-augmented-generation-rag/',\n",
              " 'https://www.oracle.com/uk/artificial-intelligence/generative-ai/retrieval-augmented-generation-rag/',\n",
              " 'https://blogs.nvidia.com/blog/what-is-retrieval-augmented-generation/',\n",
              " 'https://www.datacamp.com/blog/what-is-retrieval-augmented-generation-rag',\n",
              " 'https://en.wikipedia.org/wiki/Retrieval-augmented_generation',\n",
              " 'https://www.willowtreeapps.com/craft/retrieval-augmented-generation',\n",
              " 'https://research.ibm.com/blog/retrieval-augmented-generation-RAG',\n",
              " 'https://learn.microsoft.com/en-us/azure/search/retrieval-augmented-generation-overview',\n",
              " 'https://learn.microsoft.com/en-us/azure/search/tutorial-rag-build-solution',\n",
              " 'https://learn.microsoft.com/en-us/azure/search/search-get-started-rag',\n",
              " 'https://learn.microsoft.com/en-us/azure/ai-studio/concepts/retrieval-augmented-generation',\n",
              " 'https://learn.microsoft.com/en-us/azure/search/search-query-overview']"
            ]
          },
          "metadata": {},
          "execution_count": 118
        }
      ]
    },
    {
      "cell_type": "code",
      "source": [
        "texts = []\n",
        "final_urls = []\n",
        "total = 0\n",
        "for url in urls:\n",
        "    success = False\n",
        "    while not success:\n",
        "        try:\n",
        "            response = requests.get(url, headers=headers, timeout=10)\n",
        "\n",
        "            if response.status_code == 200:\n",
        "                soup = BeautifulSoup(response.text, 'html.parser')\n",
        "\n",
        "                for tag in soup(['script', 'style', 'header', 'footer', 'nav']):\n",
        "                    tag.decompose()\n",
        "\n",
        "                page_text = ' '.join(tag.get_text() for tag in soup.find_all(['p', 'h1', 'h2', 'h3', 'li']))\n",
        "                texts.append(page_text)\n",
        "                success = True\n",
        "                total += 1\n",
        "                final_urls.append(url)\n",
        "            else:\n",
        "                print(f\"Failed to fetch {url}: {response.status_code}\")\n",
        "                break\n",
        "        except Exception as e:\n",
        "            print(f\"Error fetching {url}: {e}\")\n",
        "            break\n",
        "\n",
        "    if (total == 3):\n",
        "        break\n"
      ],
      "metadata": {
        "id": "o1--aV5iIzcz"
      },
      "execution_count": 119,
      "outputs": []
    },
    {
      "cell_type": "code",
      "source": [
        "final_urls"
      ],
      "metadata": {
        "colab": {
          "base_uri": "https://localhost:8080/"
        },
        "id": "HkzNLQf8xc8J",
        "outputId": "63aaa44e-9391-43fd-9661-1102ac66bda1"
      },
      "execution_count": 120,
      "outputs": [
        {
          "output_type": "execute_result",
          "data": {
            "text/plain": [
              "['https://cloud.google.com/use-cases/retrieval-augmented-generation',\n",
              " 'https://aws.amazon.com/what-is/retrieval-augmented-generation/',\n",
              " 'https://www.oracle.com/artificial-intelligence/generative-ai/retrieval-augmented-generation-rag/']"
            ]
          },
          "metadata": {},
          "execution_count": 120
        }
      ]
    },
    {
      "cell_type": "code",
      "source": [
        "texts"
      ],
      "metadata": {
        "collapsed": true,
        "colab": {
          "base_uri": "https://localhost:8080/"
        },
        "id": "s1l6QKFZRweK",
        "outputId": "446518f9-90a1-42fa-fbad-8c95fc406f8e"
      },
      "execution_count": 121,
      "outputs": [
        {
          "output_type": "execute_result",
          "data": {
            "text/plain": [
              "['What is Retrieval-Augmented Generation (RAG)? RAG (Retrieval-Augmented Generation) is an AI framework that combines the strengths of traditional information retrieval systems (such as search and databases) with the capabilities of generative large language models (LLMs). By combining your data and world knowledge with LLM language skills, grounded generation is more accurate, up-to-date, and relevant to your specific needs. Check out this e-book to unlock your “Enterprise Truth.” How does Retrieval-Augmented Generation work? RAGs operate with a few main steps to help enhance generative AI outputs:\\xa0 Retrieval and pre-processing: RAGs leverage powerful search algorithms to query external data, such as web pages, knowledge bases, and databases. Once retrieved, the relevant information undergoes pre-processing, including tokenization, stemming, and removal of stop words. Grounded generation: The pre-processed retrieved information is then seamlessly incorporated into the pre-trained LLM. This integration enhances the LLM\\'s context, providing it with a more comprehensive understanding of the topic. This augmented context enables the LLM to generate more precise, informative, and engaging responses.\\xa0 Why Use RAG? RAG offers several advantages augmenting traditional methods of text generation, especially when dealing with factual information or data-driven responses. Here are some key reasons why using RAG can be beneficial: Access to fresh information LLMs are limited to their pre-trained data. This leads to outdated and potentially inaccurate responses. RAG overcomes this by providing up-to-date information to\\xa0LLMs. Factual grounding LLMs are powerful tools for generating creative and engaging text, but they can sometimes struggle with factual accuracy. This is because LLMs are trained on massive amounts of text data, which may contain inaccuracies or biases. Providing “facts” to the LLM as part of the input prompt can mitigate “gen AI hallucinations.”\\xa0The crux of this approach is ensuring that the most relevant facts are provided to the LLM, and that the LLM output is entirely grounded on those facts while also answering the user’s question and adhering to system instructions and safety constraints. Using Gemini’s long context window (LCW) is a great way to provide source materials to the LLM.\\xa0If you need to provide more information than fits into the LCW, or if you need to scale up performance, you can use a RAG approach that will reduce the number of tokens, saving you time and cost. Search with vector databases and relevancy re-rankers RAGs usually retrieve facts via search, and modern search engines now leverage vector databases to efficiently retrieve relevant documents. Vector databases store documents as embeddings in a high-dimensional space, allowing for fast and accurate retrieval based on semantic similarity.\\xa0Multi-modal embeddings can be used for images, audio and video, and more and these media embeddings can be retrieved alongside text embeddings or multi-language embeddings. Advanced search engines like Vertex AI Search use semantic search and keyword search together (called hybrid search), and a re-ranker which scores search results to ensure the top returned results are the most relevant.\\xa0Additionally searches perform better with a clear, focused query without misspellings; so prior to lookup, sophisticated search engines will transform a query and fix spelling mistakes. Relevance, accuracy, and quality The retrieval mechanism in RAG is critically important.\\xa0You need the best semantic search on top of a curated knowledge base to ensure that the retrieved information is relevant to the input query or context.\\xa0If your retrieved information is irrelevant, your generation could be grounded but off-topic or incorrect. By fine-tuning or prompt-engineering the LLM to generate text entirely based on the retrieved knowledge, RAG helps to minimize contradictions and inconsistencies in the generated text.\\xa0This significantly improves the quality of the generated text, and improves the user experience. The Vertex Eval Service now scores LLM generated text and retrieved chunks on metrics like “coherence,” “fluency,” “groundedness,” \"safety,\" “instruction_following,” “question_answering_quality,” and more.\\xa0These metrics help you measure the grounded text you get from the LLM (for some metrics that is a comparison to a ground truth answer you have provided).\\xa0Implementing these evaluations gives you a baseline measurement and you can optimize for RAG quality by configuring your search engine, curating your source data, improving source layout parsing or chunking strategies, or refining the user’s question prior to search.\\xa0A RAG Ops, metrics driven approach like this will help you hill climb to high quality RAG and grounded generation. RAGs, agents, and chatbots RAG and grounding can be integrated into any LLM application or agent which needs access to fresh, private, or specialized data. By accessing external information, RAG-powered chatbots and conversational agents leverage external knowledge to provide more comprehensive, informative, and context-aware responses, improving the overall user experience. Your data and your use case are what differentiate what you are building with gen AI.\\xa0RAG and grounding bring your data to LLMs efficiently and scalably. What Google Cloud products and services are related to RAG? The following Google Cloud products are related to Retrieval-Augmented Generation: Vertex AI SearchVertex AI Search is Google Search for your data, a fully managed, out-of-the-box search and RAG builder. Vertex AI Vector SearchThe ultra performant vector index that powers Vertex AI Search; it enables semantic and hybrid search and retrieval from huge collections of embeddings with high recall at high query rate. BigQueryLarge datasets that you can use to train machine learning models, including models for Vertex AI Vector Search. Grounded Generation APIGemini high-fidelity mode grounded with Google Search or inline facts or bring your own search engine. AlloyDBRun models in Vertex AI and access them in your application using familiar SQL queries. Use Google models, such as Gemini, or your own custom models. LlamaIndex on VertexBuild your own search engine for RAG and grounding using Google or open source components and our fully managed orchestration system based on LlamaIndex. Learn more about using retrieval augmented generation with these resources. Using Vertex AI to build next-gen search applications | Google Cloud Blog RAGs powered by Google Search technology RAG with databases on Google Cloud Infrastructure for a RAG-capable generative AI application using Vertex AI APIs to build your own search and Retrieval Augmented Generation (RAG) systems How to use RAG in BigQuery to bolster LLMs Code sample and quickstart to get familiar with RAG Start building on Google Cloud with $300 in free credits and 20+ always free products. Need help getting started?Contact sales Work with a trusted partnerFind a partner Continue browsingSee all products',\n",
              " 'What is Cloud Computing? Cloud Computing Concepts Hub Artificial Intelligence Generative AI What is RAG (Retrieval-Augmented Generation)? What is Retrieval-Augmented Generation? Retrieval-Augmented Generation (RAG) is the process of optimizing the output of a large language model, so it references an authoritative knowledge base outside of its training data sources before generating a response. Large Language Models (LLMs) are trained on vast volumes of data and use billions of parameters to generate original output for tasks like answering questions, translating languages, and completing sentences. RAG extends the already powerful capabilities of LLMs to specific domains or an organization\\'s internal knowledge base, all without the need to retrain the model. It is a cost-effective approach to improving LLM output so it remains relevant, accurate, and useful in various contexts. Why is Retrieval-Augmented Generation important? LLMs are a key artificial intelligence (AI) technology powering intelligent chatbots and other natural language processing (NLP) applications. The goal is to create bots that can answer user questions in various contexts by cross-referencing authoritative knowledge sources. Unfortunately, the nature of LLM technology introduces unpredictability in LLM responses. Additionally, LLM training data is static and introduces a cut-off date on the knowledge it has. Known challenges of LLMs include: Presenting false information when it does not have the answer. Presenting out-of-date or generic information when the user expects a specific, current response. Creating a response from non-authoritative sources. Creating inaccurate responses due to terminology confusion, wherein different training sources use the same terminology to talk about different things. You can think of the Large Language Model as an over-enthusiastic new employee who refuses to stay informed with current events but will always answer every question with absolute confidence. Unfortunately, such an attitude can negatively impact user trust and is not something you want your chatbots to emulate! RAG is one approach to solving some of these challenges. It redirects the LLM to retrieve relevant information from authoritative, pre-determined knowledge sources. Organizations have greater control over the generated text output, and users gain insights into how the LLM generates the response. What are the benefits of Retrieval-Augmented Generation? RAG technology brings several benefits to an organization\\'s generative AI efforts. Cost-effective implementation Chatbot development typically begins using a foundation model. Foundation models (FMs) are API-accessible LLMs trained on a broad spectrum of generalized and unlabeled data. The computational and financial costs of retraining FMs for organization or domain-specific information are high. RAG is a more cost-effective approach to introducing new data to the LLM. It makes generative artificial intelligence (generative AI) technology more broadly accessible and usable. Current information Even if the original training data sources for an LLM are suitable for your needs, it is challenging to maintain relevancy. RAG allows developers to provide the latest research, statistics, or news to the generative models. They can use RAG to connect the LLM directly to live social media feeds, news sites, or other frequently-updated information sources. The LLM can then provide the latest information to the users. Enhanced user trust RAG allows the LLM to present accurate information with source attribution. The output can include citations or references to sources. Users can also look up source documents themselves if they require further clarification or more detail. This can increase trust and confidence in your generative AI solution. More developer control With RAG, developers can test and improve their chat applications more efficiently. They can control and change the LLM\\'s information sources to adapt to changing requirements or cross-functional usage. Developers can also restrict sensitive information retrieval to different authorization levels and ensure the LLM generates appropriate responses. In addition, they can also troubleshoot and make fixes if the LLM references incorrect information sources for specific questions. Organizations can implement generative AI technology more confidently for a broader range of applications. How does Retrieval-Augmented Generation work? Without RAG, the LLM takes the user input and creates a response based on information it was trained on—or what it already knows. With RAG, an information retrieval component is introduced that utilizes the user input to first pull information from a new data source. The user query and the relevant information are both given to the LLM. The LLM uses the new knowledge and its training data to create better responses. The following sections provide an overview of the process. Create external data The new data outside of the LLM\\'s original training data set is called external data. It can come from multiple data sources, such as a APIs, databases, or document repositories. The data may exist in various formats like files, database records, or long-form text. Another AI technique, called embedding language models, converts data into numerical representations and stores it in a vector database. This process creates a knowledge library that the generative AI models can understand. Retrieve relevant information The next step is to perform a relevancy search. The user query is converted to a vector representation and matched with the vector databases. For example, consider a smart chatbot that can answer human resource questions for an organization. If an employee searches, \"How much annual leave do I have?\" the system will retrieve annual leave policy documents alongside the individual employee\\'s past leave record. These specific documents will be returned because they are highly-relevant to what the employee has input. The relevancy was calculated and established using mathematical vector calculations and representations. Augment the LLM prompt Next, the RAG model augments the user input (or prompts) by adding the relevant retrieved data in context. This step uses prompt engineering techniques to communicate effectively with the LLM. The augmented prompt allows the large language models to generate an accurate answer to user queries. Update external data The next question may be—what if the external data becomes stale? To maintain current information for retrieval, asynchronously update the documents and update embedding representation of the documents. You can do this through automated real-time processes or periodic batch processing. This is a common challenge in data analytics—different data-science approaches to change management can be used. The following diagram shows the conceptual flow of using RAG with LLMs.  \\xa0 What is the difference between Retrieval-Augmented Generation and semantic search? Semantic search enhances RAG results for organizations wanting to add vast external knowledge sources to their LLM applications. Modern enterprises store vast amounts of information like manuals, FAQs, research reports, customer service guides, and human resource document repositories across various systems. Context retrieval is challenging at scale and consequently lowers generative output quality. Semantic search technologies can scan large databases of disparate information and retrieve data more accurately. For example, they can answer questions such as, \"How much was spent on machinery repairs last year?” by mapping the question to the relevant documents and returning specific text instead of search results. Developers can then use that answer to provide more context to the LLM. Conventional or keyword search solutions in RAG produce limited results for knowledge-intensive tasks. Developers must also deal with word embeddings, document chunking, and other complexities as they manually prepare their data. In contrast, semantic search technologies do all the work of knowledge base preparation so developers don\\'t have to. They also generate semantically relevant passages and token words ordered by relevance to maximize the quality of the RAG payload. How can AWS support your\\xa0Retrieval-Augmented Generation requirements? Amazon Bedrock is a fully-managed service that offers a choice of high-performing foundation models—along with a broad set of capabilities—to build generative AI applications while simplifying development and maintaining privacy and security. With knowledge bases for Amazon Bedrock, you can connect FMs to your data sources for RAG in just a few clicks. Vector conversions, retrievals, and improved output generation are all handled automatically. For organizations managing their own RAG, Amazon Kendra is a highly-accurate enterprise search service powered by machine learning. It provides an optimized Kendra Retrieve API that you can use with Amazon Kendra’s high-accuracy semantic ranker as an enterprise retriever for your RAG workflows. For example, with the Retrieve API, you can: Retrieve up to 100 semantically-relevant passages of up to 200 token words each, ordered by relevance. Use pre-built connectors to popular data technologies like Amazon Simple Storage Service, SharePoint, Confluence, and other websites. Support a wide range of document formats such as HTML, Word, PowerPoint, PDF, Excel, and text files. Filter responses based on those documents that the end-user permissions allow. Amazon also offers options for organizations who want to build more custom generative AI solutions. Amazon SageMaker JumpStart is a ML hub with FMs, built-in algorithms, and prebuilt ML solutions that you can deploy with just a few clicks. You can speed up RAG implementation by referring to existing SageMaker notebooks and code examples. Get started with Retrieval-Augmented Generation on AWS by creating a free account today  Next Steps on AWS Instant get access to the AWS Free Tier. Get started building in the AWS management console.',\n",
              " 'Accessibility Policy Skip to content QUICK LINKS Oracle Cloud Infrastructure Oracle Fusion Cloud Applications Oracle Database Download Java Careers at Oracle What Is Retrieval-Augmented Generation (RAG)? Alan Zeichick | Tech Content Strategist | September 19, 2023 In This Article What Is Retrieval-Augmented Generation (RAG)? Retrieval-Augmented Generation Explained How Does Retrieval-Augmented Generation Work? Using RAG in Chat Applications Benefits of Retrieval-Augmented Generation Challenges of Retrieval-Augmented Generation Examples of Retrieval-Augmented Generation Future of Retrieval-Augmented Generation Generative AI With Oracle Retrieval-Augmented Generation FAQs Generative artificial intelligence (AI) excels at creating text responses based on large language models (LLMs) where the AI is trained on a massive number of data points. The good news is that the generated text is often easy to read and provides detailed responses that are broadly applicable to the questions asked of the software, often called prompts. The bad news is that the information used to generate the response is limited to the information used to train the AI, often a generalized LLM. The LLM’s data may be weeks, months, or years out of date and in a corporate AI chatbot may not include specific information about the organization’s products or services. That can lead to incorrect responses that erode confidence in the technology among customers and employees. What Is Retrieval-Augmented Generation (RAG)? That’s where retrieval-augmented generation (RAG) comes in. RAG provides a way to optimize the output of an LLM with targeted information without modifying the underlying model itself; that targeted information can be more up-to-date than the LLM as well as specific to a particular organization and industry. That means the generative AI system can provide more contextually appropriate answers to prompts as well as base those answers on extremely current data. RAG first came to the attention of generative AI developers after the publication of “Retrieval-Augmented Generation for Knowledge-Intensive NLP Tasks,” a 2020 paper published by Patrick Lewis and a team at Facebook AI Research. The RAG concept has been embraced by many academic and industry researchers, who see it as a way to significantly improve the value of generative AI systems. Retrieval-Augmented Generation Explained Consider a sports league that wants fans and the media to be able to use chat to access its data and answer questions about players, teams, the sport’s history and rules, and current stats and standings. A generalized LLM could answer questions about the history and rules or perhaps describe a particular team’s stadium. It wouldn’t be able to discuss last night’s game or provide current information about a particular athlete’s injury because the LLM wouldn’t have that information—and given that an LLM takes significant computing horsepower to retrain, it isn’t feasible to keep the model current. In addition to the large, fairly static LLM, the sports league owns or can access many other information sources, including databases, data warehouses, documents containing player bios, and news feeds that discuss each game in depth. RAG lets the generative AI ingest this information. Now, the chat can provide information that’s more timely, more contextually appropriate, and more accurate.  Simply put, RAG helps LLMs give better answers. Key Takeaways RAG is a relatively new artificial intelligence technique that can improve the quality of generative AI by allowing large language model (LLMs) to tap additional data resources without retraining. RAG models build knowledge repositories based on the organization’s own data, and the repositories can be continually updated to help the generative AI provide timely, contextual answers. Chatbots and other conversational systems that use natural language processing can benefit greatly from RAG and generative AI. Implementing RAG requires technologies such as vector databases, which allow for the rapid coding of new data, and searches against that data to feed into the LLM. How Does Retrieval-Augmented Generation Work?  Consider all the information that an organization has—the structured databases, the unstructured PDFs and other documents, the blogs, the news feeds, the chat transcripts from past customer service sessions. In RAG, this vast quantity of dynamic data is translated into a common format and stored in a knowledge library that’s accessible to the generative AI system.  The data in that knowledge library is then processed into numerical representations using a special type of algorithm called an embedded language model and stored in a vector database, which can be quickly searched and used to retrieve the correct contextual information. RAG and Large Language Models (LLMs) Now, say an end user sends the generative AI system a specific prompt, for example, “Where will tonight’s game be played, who are the starting players, and what are reporters saying about the matchup?” The query is transformed into a vector and used to query the vector database, which retrieves information relevant to that question’s context. That contextual information plus the original prompt are then fed into the LLM, which generates a text response based on both its somewhat out-of-date generalized knowledge and the extremely timely contextual information. Interestingly, while the process of training the generalized LLM is time-consuming and costly, updates to the RAG model are just the opposite. New data can be loaded into the embedded language model and translated into vectors on a continuous, incremental basis. In fact, the answers from the entire generative AI system can be fed back into the RAG model, improving its performance and accuracy, because, in effect, it knows how it has already answered a similar question. An additional benefit of RAG is that by using the vector database, the generative AI can provide the specific source of data cited in its answer—something LLMs can’t do. Therefore, if there’s an inaccuracy in the generative AI’s output, the document that contains that erroneous information can be quickly identified and corrected, and then the corrected information can be fed into the vector database. In short, RAG provides timeliness, context, and accuracy grounded in evidence to generative AI, going beyond what the LLM itself can provide. Retrieval-Augmented Generation vs. Semantic Search  RAG isn’t the only technique used to improve the accuracy of LLM-based generative AI. Another technique is semantic search, which helps the AI system narrow down the meaning of a query by seeking deep understanding of the specific words and phrases in the prompt.  Traditional search is focused on keywords. For example, a basic query asking about the tree species native to France might search the AI system’s database using “trees” and “France” as keywords and find data that contains both keywords—but the system might not truly comprehend the meaning of trees in France and therefore may retrieve too much information, too little, or even the wrong information. That keyword-based search might also miss information because the keyword search is too literal: The trees native to Normandy might be missed, even though they’re in France, because that keyword was missing.  Semantic search goes beyond keyword search by determining the meaning of questions and source documents and using that meaning to retrieve more accurate results. Semantic search is an integral part of RAG. Using RAG in Chat Applications When a person wants an instant answer to a question, it’s hard to beat the immediacy and usability of a chatbot. Most bots are trained on a finite number of intents—that is, the customer’s desired tasks or outcomes—and they respond to those intents. RAG capabilities can make current bots better by allowing the AI system to provide natural language answers to questions that aren’t in the intent list.  The “ask a question, get an answer” paradigm makes chatbots a perfect use case for generative AI, for many reasons. Questions often require specific context to generate an accurate answer, and given that chatbot users’ expectations about relevance and accuracy are often high, it’s clear how RAG techniques apply. In fact, for many organizations, chatbots may indeed be the starting point for RAG and generative AI use. Questions often require specific context to deliver an accurate answer. Customer queries about a newly introduced product, for example, aren’t useful if the data pertains to the previous model and may in fact be misleading. And a hiker who wants to know if a park is open this Sunday expects timely, accurate information about that specific park on that specific date. Benefits of Retrieval-Augmented Generation RAG techniques can be used to improve the quality of a generative AI system’s responses to prompts, beyond what an LLM alone can deliver. Benefits include the following: The RAG has access to information that may be fresher than the data used to train the LLM. Data in the RAG’s knowledge repository can be continually updated without incurring significant costs. The RAG’s knowledge repository can contain data that’s more contextual than the data in a generalized LLM. The source of the information in the RAG’s vector database can be identified. And because the data sources are known, incorrect information in the RAG can be corrected or deleted. Challenges of Retrieval-Augmented Generation Because RAG is a relatively new technology, first proposed in 2020, AI developers are still learning how to best implement its information retrieval mechanisms in generative AI. Some key challenges are Improving organizational knowledge and understanding of RAG because it’s so new Increasing costs; while generative AI with RAG will be more expensive to implement than an LLM on its own, this route is less costly than frequently retraining the LLM itself Determining how to best model the structured and unstructured data within the knowledge library and vector database Developing requirements for a process to incrementally feed data into the RAG system Putting processes in place to handle reports of inaccuracies and to correct or delete those information sources in the RAG system Examples of Retrieval-Augmented Generation There are many possible examples of generative AI augmented by RAG. Cohere, a leader in the field of generative AI and RAG, has written about a chatbot that can provide contextual information about a vacation rental in the Canary Islands, including fact-based answers about beach accessibility, lifeguards on nearby beaches, and the availability of volleyball courts within walking distance. Oracle has described other use cases for RAG, such as analyzing financial reports, assisting with gas and oil discovery, reviewing transcripts from call center customer exchanges, and searching medical databases for relevant research papers. Future of Retrieval-Augmented Generation Today, in the early phases of RAG, the technology is being used to provide timely, accurate, and contextual responses to queries. These use cases are appropriate to chatbots, email, text messaging, and other conversational applications. In the future, possible directions for RAG technology would be to help generative AI take an appropriate action based on contextual information and user prompts. For example, a RAG-augmented AI system might identify the highest-rated beach vacation rental on the Canary Islands and then initiate booking a two-bedroom cabin within walking distance of the beach during a volleyball tournament. RAG might also be able to assist with more sophisticated lines of questioning. Today, generative AI might be able to tell an employee about the company’s tuition reimbursement policy; RAG could add more contextual data to tell the employee which nearby schools have courses that fit into that policy and perhaps recommend programs that are suited to the employee’s jobs and previous training—maybe even help apply for those programs and initiate a reimbursement request. Generative AI With Oracle Oracle offers a variety of advanced cloud-based AI services, including the OCI Generative AI service running on Oracle Cloud Infrastructure (OCI). Oracle’s offerings include robust models based on your organization’s unique data and industry knowledge. Customer data is not shared with LLM providers or seen by other customers, and custom models trained on customer data can only be used by that customer. In addition, Oracle is integrating generative AI across its wide range of cloud applications, and generative AI capabilities are available to developers who use OCI and across its database portfolio. What’s more, Oracle’s AI services offer predictable performance and pricing using single-tenant AI clusters dedicated to your use. The power and capabilities of LLMs and generative AI are widely known and understood—they’ve been the subject of breathless news headlines for the past year. Retrieval-augmented generation builds on the benefits of LLMs by making them more timely, more accurate, and more contextual. For business applications of generative AI, RAG is an important technology to watch, study, and pilot. Oracle offers a modern data platform and low-cost, high-performance AI infrastructure. Additional factors, such as powerful, high-performing models, unrivaled data security, and embedded AI services demonstrate why Oracle’s AI offering is truly built for enterprises. Retrieval-Augmented Generation FAQs Is RAG the same as generative AI? No. Retrieval-augmented generation is a technique that can provide more accurate results to queries than a generative large language model on its own because RAG uses knowledge external to data already contained in the LLM. What type of information is used in RAG? RAG can incorporate data from many sources, such as relational databases, unstructured document repositories, internet data streams, media newsfeeds, audio transcripts, and transaction logs. How does generative AI use RAG? Data from enterprise data sources is embedded into a knowledge repository and then converted to vectors, which are stored in a vector database. When an end user makes a query, the vector database retrieves relevant contextual information. This contextual information, along with the query, is sent to the large language model, which uses the context to create a more timely, accurate, and contextual response. Can a RAG cite references for the data it retrieves? Yes. The vector databases and knowledge repositories used by RAG contain specific information about the sources of information. This means that sources can be cited, and if there’s an error in one of those sources it can be quickly corrected or deleted so that subsequent queries won’t return that incorrect information.']"
            ]
          },
          "metadata": {},
          "execution_count": 121
        }
      ]
    },
    {
      "cell_type": "code",
      "source": [
        "len(texts)"
      ],
      "metadata": {
        "collapsed": true,
        "colab": {
          "base_uri": "https://localhost:8080/"
        },
        "id": "6ruAwMmPbN2_",
        "outputId": "0a9c1008-a3e7-4554-d89b-2541c16ab119"
      },
      "execution_count": 122,
      "outputs": [
        {
          "output_type": "execute_result",
          "data": {
            "text/plain": [
              "3"
            ]
          },
          "metadata": {},
          "execution_count": 122
        }
      ]
    },
    {
      "cell_type": "code",
      "source": [
        "len(texts[0]), len(texts[1]), len(texts[2])"
      ],
      "metadata": {
        "colab": {
          "base_uri": "https://localhost:8080/"
        },
        "id": "gLAKCScYYYOs",
        "outputId": "a9719765-100c-4a10-c94f-d769e07a1ae9"
      },
      "execution_count": 123,
      "outputs": [
        {
          "output_type": "execute_result",
          "data": {
            "text/plain": [
              "(7083, 10109, 14907)"
            ]
          },
          "metadata": {},
          "execution_count": 123
        }
      ]
    },
    {
      "cell_type": "markdown",
      "metadata": {
        "id": "7P1rpe-fHH5H"
      },
      "source": [
        "# Cleaning/Preprocessing"
      ]
    },
    {
      "cell_type": "code",
      "execution_count": 124,
      "metadata": {
        "id": "Z09FAPueHH5I"
      },
      "outputs": [],
      "source": [
        "import re\n",
        "\n",
        "def clean_text(text):\n",
        "    text = re.sub(r\"\\[.*?\\]\", \"\", text)\n",
        "    text = re.sub(r\"\\s+\", \" \", text)\n",
        "    return text.strip()\n",
        "\n",
        "texts[0] = clean_text(texts[0])\n",
        "texts[1] = clean_text(texts[1])\n",
        "texts[2] = clean_text(texts[2])"
      ]
    },
    {
      "cell_type": "code",
      "source": [
        "texts"
      ],
      "metadata": {
        "collapsed": true,
        "colab": {
          "base_uri": "https://localhost:8080/"
        },
        "id": "gc4jKQu2bLZi",
        "outputId": "4cec1ec3-2195-4ca0-a616-cbb54497875f"
      },
      "execution_count": 125,
      "outputs": [
        {
          "output_type": "execute_result",
          "data": {
            "text/plain": [
              "['What is Retrieval-Augmented Generation (RAG)? RAG (Retrieval-Augmented Generation) is an AI framework that combines the strengths of traditional information retrieval systems (such as search and databases) with the capabilities of generative large language models (LLMs). By combining your data and world knowledge with LLM language skills, grounded generation is more accurate, up-to-date, and relevant to your specific needs. Check out this e-book to unlock your “Enterprise Truth.” How does Retrieval-Augmented Generation work? RAGs operate with a few main steps to help enhance generative AI outputs: Retrieval and pre-processing: RAGs leverage powerful search algorithms to query external data, such as web pages, knowledge bases, and databases. Once retrieved, the relevant information undergoes pre-processing, including tokenization, stemming, and removal of stop words. Grounded generation: The pre-processed retrieved information is then seamlessly incorporated into the pre-trained LLM. This integration enhances the LLM\\'s context, providing it with a more comprehensive understanding of the topic. This augmented context enables the LLM to generate more precise, informative, and engaging responses. Why Use RAG? RAG offers several advantages augmenting traditional methods of text generation, especially when dealing with factual information or data-driven responses. Here are some key reasons why using RAG can be beneficial: Access to fresh information LLMs are limited to their pre-trained data. This leads to outdated and potentially inaccurate responses. RAG overcomes this by providing up-to-date information to LLMs. Factual grounding LLMs are powerful tools for generating creative and engaging text, but they can sometimes struggle with factual accuracy. This is because LLMs are trained on massive amounts of text data, which may contain inaccuracies or biases. Providing “facts” to the LLM as part of the input prompt can mitigate “gen AI hallucinations.” The crux of this approach is ensuring that the most relevant facts are provided to the LLM, and that the LLM output is entirely grounded on those facts while also answering the user’s question and adhering to system instructions and safety constraints. Using Gemini’s long context window (LCW) is a great way to provide source materials to the LLM. If you need to provide more information than fits into the LCW, or if you need to scale up performance, you can use a RAG approach that will reduce the number of tokens, saving you time and cost. Search with vector databases and relevancy re-rankers RAGs usually retrieve facts via search, and modern search engines now leverage vector databases to efficiently retrieve relevant documents. Vector databases store documents as embeddings in a high-dimensional space, allowing for fast and accurate retrieval based on semantic similarity. Multi-modal embeddings can be used for images, audio and video, and more and these media embeddings can be retrieved alongside text embeddings or multi-language embeddings. Advanced search engines like Vertex AI Search use semantic search and keyword search together (called hybrid search), and a re-ranker which scores search results to ensure the top returned results are the most relevant. Additionally searches perform better with a clear, focused query without misspellings; so prior to lookup, sophisticated search engines will transform a query and fix spelling mistakes. Relevance, accuracy, and quality The retrieval mechanism in RAG is critically important. You need the best semantic search on top of a curated knowledge base to ensure that the retrieved information is relevant to the input query or context. If your retrieved information is irrelevant, your generation could be grounded but off-topic or incorrect. By fine-tuning or prompt-engineering the LLM to generate text entirely based on the retrieved knowledge, RAG helps to minimize contradictions and inconsistencies in the generated text. This significantly improves the quality of the generated text, and improves the user experience. The Vertex Eval Service now scores LLM generated text and retrieved chunks on metrics like “coherence,” “fluency,” “groundedness,” \"safety,\" “instruction_following,” “question_answering_quality,” and more. These metrics help you measure the grounded text you get from the LLM (for some metrics that is a comparison to a ground truth answer you have provided). Implementing these evaluations gives you a baseline measurement and you can optimize for RAG quality by configuring your search engine, curating your source data, improving source layout parsing or chunking strategies, or refining the user’s question prior to search. A RAG Ops, metrics driven approach like this will help you hill climb to high quality RAG and grounded generation. RAGs, agents, and chatbots RAG and grounding can be integrated into any LLM application or agent which needs access to fresh, private, or specialized data. By accessing external information, RAG-powered chatbots and conversational agents leverage external knowledge to provide more comprehensive, informative, and context-aware responses, improving the overall user experience. Your data and your use case are what differentiate what you are building with gen AI. RAG and grounding bring your data to LLMs efficiently and scalably. What Google Cloud products and services are related to RAG? The following Google Cloud products are related to Retrieval-Augmented Generation: Vertex AI SearchVertex AI Search is Google Search for your data, a fully managed, out-of-the-box search and RAG builder. Vertex AI Vector SearchThe ultra performant vector index that powers Vertex AI Search; it enables semantic and hybrid search and retrieval from huge collections of embeddings with high recall at high query rate. BigQueryLarge datasets that you can use to train machine learning models, including models for Vertex AI Vector Search. Grounded Generation APIGemini high-fidelity mode grounded with Google Search or inline facts or bring your own search engine. AlloyDBRun models in Vertex AI and access them in your application using familiar SQL queries. Use Google models, such as Gemini, or your own custom models. LlamaIndex on VertexBuild your own search engine for RAG and grounding using Google or open source components and our fully managed orchestration system based on LlamaIndex. Learn more about using retrieval augmented generation with these resources. Using Vertex AI to build next-gen search applications | Google Cloud Blog RAGs powered by Google Search technology RAG with databases on Google Cloud Infrastructure for a RAG-capable generative AI application using Vertex AI APIs to build your own search and Retrieval Augmented Generation (RAG) systems How to use RAG in BigQuery to bolster LLMs Code sample and quickstart to get familiar with RAG Start building on Google Cloud with $300 in free credits and 20+ always free products. Need help getting started?Contact sales Work with a trusted partnerFind a partner Continue browsingSee all products',\n",
              " 'What is Cloud Computing? Cloud Computing Concepts Hub Artificial Intelligence Generative AI What is RAG (Retrieval-Augmented Generation)? What is Retrieval-Augmented Generation? Retrieval-Augmented Generation (RAG) is the process of optimizing the output of a large language model, so it references an authoritative knowledge base outside of its training data sources before generating a response. Large Language Models (LLMs) are trained on vast volumes of data and use billions of parameters to generate original output for tasks like answering questions, translating languages, and completing sentences. RAG extends the already powerful capabilities of LLMs to specific domains or an organization\\'s internal knowledge base, all without the need to retrain the model. It is a cost-effective approach to improving LLM output so it remains relevant, accurate, and useful in various contexts. Why is Retrieval-Augmented Generation important? LLMs are a key artificial intelligence (AI) technology powering intelligent chatbots and other natural language processing (NLP) applications. The goal is to create bots that can answer user questions in various contexts by cross-referencing authoritative knowledge sources. Unfortunately, the nature of LLM technology introduces unpredictability in LLM responses. Additionally, LLM training data is static and introduces a cut-off date on the knowledge it has. Known challenges of LLMs include: Presenting false information when it does not have the answer. Presenting out-of-date or generic information when the user expects a specific, current response. Creating a response from non-authoritative sources. Creating inaccurate responses due to terminology confusion, wherein different training sources use the same terminology to talk about different things. You can think of the Large Language Model as an over-enthusiastic new employee who refuses to stay informed with current events but will always answer every question with absolute confidence. Unfortunately, such an attitude can negatively impact user trust and is not something you want your chatbots to emulate! RAG is one approach to solving some of these challenges. It redirects the LLM to retrieve relevant information from authoritative, pre-determined knowledge sources. Organizations have greater control over the generated text output, and users gain insights into how the LLM generates the response. What are the benefits of Retrieval-Augmented Generation? RAG technology brings several benefits to an organization\\'s generative AI efforts. Cost-effective implementation Chatbot development typically begins using a foundation model. Foundation models (FMs) are API-accessible LLMs trained on a broad spectrum of generalized and unlabeled data. The computational and financial costs of retraining FMs for organization or domain-specific information are high. RAG is a more cost-effective approach to introducing new data to the LLM. It makes generative artificial intelligence (generative AI) technology more broadly accessible and usable. Current information Even if the original training data sources for an LLM are suitable for your needs, it is challenging to maintain relevancy. RAG allows developers to provide the latest research, statistics, or news to the generative models. They can use RAG to connect the LLM directly to live social media feeds, news sites, or other frequently-updated information sources. The LLM can then provide the latest information to the users. Enhanced user trust RAG allows the LLM to present accurate information with source attribution. The output can include citations or references to sources. Users can also look up source documents themselves if they require further clarification or more detail. This can increase trust and confidence in your generative AI solution. More developer control With RAG, developers can test and improve their chat applications more efficiently. They can control and change the LLM\\'s information sources to adapt to changing requirements or cross-functional usage. Developers can also restrict sensitive information retrieval to different authorization levels and ensure the LLM generates appropriate responses. In addition, they can also troubleshoot and make fixes if the LLM references incorrect information sources for specific questions. Organizations can implement generative AI technology more confidently for a broader range of applications. How does Retrieval-Augmented Generation work? Without RAG, the LLM takes the user input and creates a response based on information it was trained on—or what it already knows. With RAG, an information retrieval component is introduced that utilizes the user input to first pull information from a new data source. The user query and the relevant information are both given to the LLM. The LLM uses the new knowledge and its training data to create better responses. The following sections provide an overview of the process. Create external data The new data outside of the LLM\\'s original training data set is called external data. It can come from multiple data sources, such as a APIs, databases, or document repositories. The data may exist in various formats like files, database records, or long-form text. Another AI technique, called embedding language models, converts data into numerical representations and stores it in a vector database. This process creates a knowledge library that the generative AI models can understand. Retrieve relevant information The next step is to perform a relevancy search. The user query is converted to a vector representation and matched with the vector databases. For example, consider a smart chatbot that can answer human resource questions for an organization. If an employee searches, \"How much annual leave do I have?\" the system will retrieve annual leave policy documents alongside the individual employee\\'s past leave record. These specific documents will be returned because they are highly-relevant to what the employee has input. The relevancy was calculated and established using mathematical vector calculations and representations. Augment the LLM prompt Next, the RAG model augments the user input (or prompts) by adding the relevant retrieved data in context. This step uses prompt engineering techniques to communicate effectively with the LLM. The augmented prompt allows the large language models to generate an accurate answer to user queries. Update external data The next question may be—what if the external data becomes stale? To maintain current information for retrieval, asynchronously update the documents and update embedding representation of the documents. You can do this through automated real-time processes or periodic batch processing. This is a common challenge in data analytics—different data-science approaches to change management can be used. The following diagram shows the conceptual flow of using RAG with LLMs. What is the difference between Retrieval-Augmented Generation and semantic search? Semantic search enhances RAG results for organizations wanting to add vast external knowledge sources to their LLM applications. Modern enterprises store vast amounts of information like manuals, FAQs, research reports, customer service guides, and human resource document repositories across various systems. Context retrieval is challenging at scale and consequently lowers generative output quality. Semantic search technologies can scan large databases of disparate information and retrieve data more accurately. For example, they can answer questions such as, \"How much was spent on machinery repairs last year?” by mapping the question to the relevant documents and returning specific text instead of search results. Developers can then use that answer to provide more context to the LLM. Conventional or keyword search solutions in RAG produce limited results for knowledge-intensive tasks. Developers must also deal with word embeddings, document chunking, and other complexities as they manually prepare their data. In contrast, semantic search technologies do all the work of knowledge base preparation so developers don\\'t have to. They also generate semantically relevant passages and token words ordered by relevance to maximize the quality of the RAG payload. How can AWS support your Retrieval-Augmented Generation requirements? Amazon Bedrock is a fully-managed service that offers a choice of high-performing foundation models—along with a broad set of capabilities—to build generative AI applications while simplifying development and maintaining privacy and security. With knowledge bases for Amazon Bedrock, you can connect FMs to your data sources for RAG in just a few clicks. Vector conversions, retrievals, and improved output generation are all handled automatically. For organizations managing their own RAG, Amazon Kendra is a highly-accurate enterprise search service powered by machine learning. It provides an optimized Kendra Retrieve API that you can use with Amazon Kendra’s high-accuracy semantic ranker as an enterprise retriever for your RAG workflows. For example, with the Retrieve API, you can: Retrieve up to 100 semantically-relevant passages of up to 200 token words each, ordered by relevance. Use pre-built connectors to popular data technologies like Amazon Simple Storage Service, SharePoint, Confluence, and other websites. Support a wide range of document formats such as HTML, Word, PowerPoint, PDF, Excel, and text files. Filter responses based on those documents that the end-user permissions allow. Amazon also offers options for organizations who want to build more custom generative AI solutions. Amazon SageMaker JumpStart is a ML hub with FMs, built-in algorithms, and prebuilt ML solutions that you can deploy with just a few clicks. You can speed up RAG implementation by referring to existing SageMaker notebooks and code examples. Get started with Retrieval-Augmented Generation on AWS by creating a free account today Next Steps on AWS Instant get access to the AWS Free Tier. Get started building in the AWS management console.',\n",
              " 'Accessibility Policy Skip to content QUICK LINKS Oracle Cloud Infrastructure Oracle Fusion Cloud Applications Oracle Database Download Java Careers at Oracle What Is Retrieval-Augmented Generation (RAG)? Alan Zeichick | Tech Content Strategist | September 19, 2023 In This Article What Is Retrieval-Augmented Generation (RAG)? Retrieval-Augmented Generation Explained How Does Retrieval-Augmented Generation Work? Using RAG in Chat Applications Benefits of Retrieval-Augmented Generation Challenges of Retrieval-Augmented Generation Examples of Retrieval-Augmented Generation Future of Retrieval-Augmented Generation Generative AI With Oracle Retrieval-Augmented Generation FAQs Generative artificial intelligence (AI) excels at creating text responses based on large language models (LLMs) where the AI is trained on a massive number of data points. The good news is that the generated text is often easy to read and provides detailed responses that are broadly applicable to the questions asked of the software, often called prompts. The bad news is that the information used to generate the response is limited to the information used to train the AI, often a generalized LLM. The LLM’s data may be weeks, months, or years out of date and in a corporate AI chatbot may not include specific information about the organization’s products or services. That can lead to incorrect responses that erode confidence in the technology among customers and employees. What Is Retrieval-Augmented Generation (RAG)? That’s where retrieval-augmented generation (RAG) comes in. RAG provides a way to optimize the output of an LLM with targeted information without modifying the underlying model itself; that targeted information can be more up-to-date than the LLM as well as specific to a particular organization and industry. That means the generative AI system can provide more contextually appropriate answers to prompts as well as base those answers on extremely current data. RAG first came to the attention of generative AI developers after the publication of “Retrieval-Augmented Generation for Knowledge-Intensive NLP Tasks,” a 2020 paper published by Patrick Lewis and a team at Facebook AI Research. The RAG concept has been embraced by many academic and industry researchers, who see it as a way to significantly improve the value of generative AI systems. Retrieval-Augmented Generation Explained Consider a sports league that wants fans and the media to be able to use chat to access its data and answer questions about players, teams, the sport’s history and rules, and current stats and standings. A generalized LLM could answer questions about the history and rules or perhaps describe a particular team’s stadium. It wouldn’t be able to discuss last night’s game or provide current information about a particular athlete’s injury because the LLM wouldn’t have that information—and given that an LLM takes significant computing horsepower to retrain, it isn’t feasible to keep the model current. In addition to the large, fairly static LLM, the sports league owns or can access many other information sources, including databases, data warehouses, documents containing player bios, and news feeds that discuss each game in depth. RAG lets the generative AI ingest this information. Now, the chat can provide information that’s more timely, more contextually appropriate, and more accurate. Simply put, RAG helps LLMs give better answers. Key Takeaways RAG is a relatively new artificial intelligence technique that can improve the quality of generative AI by allowing large language model (LLMs) to tap additional data resources without retraining. RAG models build knowledge repositories based on the organization’s own data, and the repositories can be continually updated to help the generative AI provide timely, contextual answers. Chatbots and other conversational systems that use natural language processing can benefit greatly from RAG and generative AI. Implementing RAG requires technologies such as vector databases, which allow for the rapid coding of new data, and searches against that data to feed into the LLM. How Does Retrieval-Augmented Generation Work? Consider all the information that an organization has—the structured databases, the unstructured PDFs and other documents, the blogs, the news feeds, the chat transcripts from past customer service sessions. In RAG, this vast quantity of dynamic data is translated into a common format and stored in a knowledge library that’s accessible to the generative AI system. The data in that knowledge library is then processed into numerical representations using a special type of algorithm called an embedded language model and stored in a vector database, which can be quickly searched and used to retrieve the correct contextual information. RAG and Large Language Models (LLMs) Now, say an end user sends the generative AI system a specific prompt, for example, “Where will tonight’s game be played, who are the starting players, and what are reporters saying about the matchup?” The query is transformed into a vector and used to query the vector database, which retrieves information relevant to that question’s context. That contextual information plus the original prompt are then fed into the LLM, which generates a text response based on both its somewhat out-of-date generalized knowledge and the extremely timely contextual information. Interestingly, while the process of training the generalized LLM is time-consuming and costly, updates to the RAG model are just the opposite. New data can be loaded into the embedded language model and translated into vectors on a continuous, incremental basis. In fact, the answers from the entire generative AI system can be fed back into the RAG model, improving its performance and accuracy, because, in effect, it knows how it has already answered a similar question. An additional benefit of RAG is that by using the vector database, the generative AI can provide the specific source of data cited in its answer—something LLMs can’t do. Therefore, if there’s an inaccuracy in the generative AI’s output, the document that contains that erroneous information can be quickly identified and corrected, and then the corrected information can be fed into the vector database. In short, RAG provides timeliness, context, and accuracy grounded in evidence to generative AI, going beyond what the LLM itself can provide. Retrieval-Augmented Generation vs. Semantic Search RAG isn’t the only technique used to improve the accuracy of LLM-based generative AI. Another technique is semantic search, which helps the AI system narrow down the meaning of a query by seeking deep understanding of the specific words and phrases in the prompt. Traditional search is focused on keywords. For example, a basic query asking about the tree species native to France might search the AI system’s database using “trees” and “France” as keywords and find data that contains both keywords—but the system might not truly comprehend the meaning of trees in France and therefore may retrieve too much information, too little, or even the wrong information. That keyword-based search might also miss information because the keyword search is too literal: The trees native to Normandy might be missed, even though they’re in France, because that keyword was missing. Semantic search goes beyond keyword search by determining the meaning of questions and source documents and using that meaning to retrieve more accurate results. Semantic search is an integral part of RAG. Using RAG in Chat Applications When a person wants an instant answer to a question, it’s hard to beat the immediacy and usability of a chatbot. Most bots are trained on a finite number of intents—that is, the customer’s desired tasks or outcomes—and they respond to those intents. RAG capabilities can make current bots better by allowing the AI system to provide natural language answers to questions that aren’t in the intent list. The “ask a question, get an answer” paradigm makes chatbots a perfect use case for generative AI, for many reasons. Questions often require specific context to generate an accurate answer, and given that chatbot users’ expectations about relevance and accuracy are often high, it’s clear how RAG techniques apply. In fact, for many organizations, chatbots may indeed be the starting point for RAG and generative AI use. Questions often require specific context to deliver an accurate answer. Customer queries about a newly introduced product, for example, aren’t useful if the data pertains to the previous model and may in fact be misleading. And a hiker who wants to know if a park is open this Sunday expects timely, accurate information about that specific park on that specific date. Benefits of Retrieval-Augmented Generation RAG techniques can be used to improve the quality of a generative AI system’s responses to prompts, beyond what an LLM alone can deliver. Benefits include the following: The RAG has access to information that may be fresher than the data used to train the LLM. Data in the RAG’s knowledge repository can be continually updated without incurring significant costs. The RAG’s knowledge repository can contain data that’s more contextual than the data in a generalized LLM. The source of the information in the RAG’s vector database can be identified. And because the data sources are known, incorrect information in the RAG can be corrected or deleted. Challenges of Retrieval-Augmented Generation Because RAG is a relatively new technology, first proposed in 2020, AI developers are still learning how to best implement its information retrieval mechanisms in generative AI. Some key challenges are Improving organizational knowledge and understanding of RAG because it’s so new Increasing costs; while generative AI with RAG will be more expensive to implement than an LLM on its own, this route is less costly than frequently retraining the LLM itself Determining how to best model the structured and unstructured data within the knowledge library and vector database Developing requirements for a process to incrementally feed data into the RAG system Putting processes in place to handle reports of inaccuracies and to correct or delete those information sources in the RAG system Examples of Retrieval-Augmented Generation There are many possible examples of generative AI augmented by RAG. Cohere, a leader in the field of generative AI and RAG, has written about a chatbot that can provide contextual information about a vacation rental in the Canary Islands, including fact-based answers about beach accessibility, lifeguards on nearby beaches, and the availability of volleyball courts within walking distance. Oracle has described other use cases for RAG, such as analyzing financial reports, assisting with gas and oil discovery, reviewing transcripts from call center customer exchanges, and searching medical databases for relevant research papers. Future of Retrieval-Augmented Generation Today, in the early phases of RAG, the technology is being used to provide timely, accurate, and contextual responses to queries. These use cases are appropriate to chatbots, email, text messaging, and other conversational applications. In the future, possible directions for RAG technology would be to help generative AI take an appropriate action based on contextual information and user prompts. For example, a RAG-augmented AI system might identify the highest-rated beach vacation rental on the Canary Islands and then initiate booking a two-bedroom cabin within walking distance of the beach during a volleyball tournament. RAG might also be able to assist with more sophisticated lines of questioning. Today, generative AI might be able to tell an employee about the company’s tuition reimbursement policy; RAG could add more contextual data to tell the employee which nearby schools have courses that fit into that policy and perhaps recommend programs that are suited to the employee’s jobs and previous training—maybe even help apply for those programs and initiate a reimbursement request. Generative AI With Oracle Oracle offers a variety of advanced cloud-based AI services, including the OCI Generative AI service running on Oracle Cloud Infrastructure (OCI). Oracle’s offerings include robust models based on your organization’s unique data and industry knowledge. Customer data is not shared with LLM providers or seen by other customers, and custom models trained on customer data can only be used by that customer. In addition, Oracle is integrating generative AI across its wide range of cloud applications, and generative AI capabilities are available to developers who use OCI and across its database portfolio. What’s more, Oracle’s AI services offer predictable performance and pricing using single-tenant AI clusters dedicated to your use. The power and capabilities of LLMs and generative AI are widely known and understood—they’ve been the subject of breathless news headlines for the past year. Retrieval-augmented generation builds on the benefits of LLMs by making them more timely, more accurate, and more contextual. For business applications of generative AI, RAG is an important technology to watch, study, and pilot. Oracle offers a modern data platform and low-cost, high-performance AI infrastructure. Additional factors, such as powerful, high-performing models, unrivaled data security, and embedded AI services demonstrate why Oracle’s AI offering is truly built for enterprises. Retrieval-Augmented Generation FAQs Is RAG the same as generative AI? No. Retrieval-augmented generation is a technique that can provide more accurate results to queries than a generative large language model on its own because RAG uses knowledge external to data already contained in the LLM. What type of information is used in RAG? RAG can incorporate data from many sources, such as relational databases, unstructured document repositories, internet data streams, media newsfeeds, audio transcripts, and transaction logs. How does generative AI use RAG? Data from enterprise data sources is embedded into a knowledge repository and then converted to vectors, which are stored in a vector database. When an end user makes a query, the vector database retrieves relevant contextual information. This contextual information, along with the query, is sent to the large language model, which uses the context to create a more timely, accurate, and contextual response. Can a RAG cite references for the data it retrieves? Yes. The vector databases and knowledge repositories used by RAG contain specific information about the sources of information. This means that sources can be cited, and if there’s an error in one of those sources it can be quickly corrected or deleted so that subsequent queries won’t return that incorrect information.']"
            ]
          },
          "metadata": {},
          "execution_count": 125
        }
      ]
    },
    {
      "cell_type": "code",
      "execution_count": 126,
      "metadata": {
        "colab": {
          "base_uri": "https://localhost:8080/"
        },
        "id": "eLXJQdcdHH5I",
        "outputId": "a84d0cd8-8c8c-4b1e-e8ec-221f2dfc955c"
      },
      "outputs": [
        {
          "output_type": "execute_result",
          "data": {
            "text/plain": [
              "(7081, 10105, 14900)"
            ]
          },
          "metadata": {},
          "execution_count": 126
        }
      ],
      "source": [
        "len(texts[0]), len(texts[1]), len(texts[2])"
      ]
    },
    {
      "cell_type": "code",
      "source": [
        "final_text = \" \".join(texts)\n",
        "final_text"
      ],
      "metadata": {
        "colab": {
          "base_uri": "https://localhost:8080/",
          "height": 139
        },
        "id": "mku22u_ZbuF-",
        "outputId": "765b908a-75d8-4134-9cfb-cc1a4c2852f6",
        "collapsed": true
      },
      "execution_count": 127,
      "outputs": [
        {
          "output_type": "execute_result",
          "data": {
            "text/plain": [
              "'What is Retrieval-Augmented Generation (RAG)? RAG (Retrieval-Augmented Generation) is an AI framework that combines the strengths of traditional information retrieval systems (such as search and databases) with the capabilities of generative large language models (LLMs). By combining your data and world knowledge with LLM language skills, grounded generation is more accurate, up-to-date, and relevant to your specific needs. Check out this e-book to unlock your “Enterprise Truth.” How does Retrieval-Augmented Generation work? RAGs operate with a few main steps to help enhance generative AI outputs: Retrieval and pre-processing: RAGs leverage powerful search algorithms to query external data, such as web pages, knowledge bases, and databases. Once retrieved, the relevant information undergoes pre-processing, including tokenization, stemming, and removal of stop words. Grounded generation: The pre-processed retrieved information is then seamlessly incorporated into the pre-trained LLM. This integration enhances the LLM\\'s context, providing it with a more comprehensive understanding of the topic. This augmented context enables the LLM to generate more precise, informative, and engaging responses. Why Use RAG? RAG offers several advantages augmenting traditional methods of text generation, especially when dealing with factual information or data-driven responses. Here are some key reasons why using RAG can be beneficial: Access to fresh information LLMs are limited to their pre-trained data. This leads to outdated and potentially inaccurate responses. RAG overcomes this by providing up-to-date information to LLMs. Factual grounding LLMs are powerful tools for generating creative and engaging text, but they can sometimes struggle with factual accuracy. This is because LLMs are trained on massive amounts of text data, which may contain inaccuracies or biases. Providing “facts” to the LLM as part of the input prompt can mitigate “gen AI hallucinations.” The crux of this approach is ensuring that the most relevant facts are provided to the LLM, and that the LLM output is entirely grounded on those facts while also answering the user’s question and adhering to system instructions and safety constraints. Using Gemini’s long context window (LCW) is a great way to provide source materials to the LLM. If you need to provide more information than fits into the LCW, or if you need to scale up performance, you can use a RAG approach that will reduce the number of tokens, saving you time and cost. Search with vector databases and relevancy re-rankers RAGs usually retrieve facts via search, and modern search engines now leverage vector databases to efficiently retrieve relevant documents. Vector databases store documents as embeddings in a high-dimensional space, allowing for fast and accurate retrieval based on semantic similarity. Multi-modal embeddings can be used for images, audio and video, and more and these media embeddings can be retrieved alongside text embeddings or multi-language embeddings. Advanced search engines like Vertex AI Search use semantic search and keyword search together (called hybrid search), and a re-ranker which scores search results to ensure the top returned results are the most relevant. Additionally searches perform better with a clear, focused query without misspellings; so prior to lookup, sophisticated search engines will transform a query and fix spelling mistakes. Relevance, accuracy, and quality The retrieval mechanism in RAG is critically important. You need the best semantic search on top of a curated knowledge base to ensure that the retrieved information is relevant to the input query or context. If your retrieved information is irrelevant, your generation could be grounded but off-topic or incorrect. By fine-tuning or prompt-engineering the LLM to generate text entirely based on the retrieved knowledge, RAG helps to minimize contradictions and inconsistencies in the generated text. This significantly improves the quality of the generated text, and improves the user experience. The Vertex Eval Service now scores LLM generated text and retrieved chunks on metrics like “coherence,” “fluency,” “groundedness,” \"safety,\" “instruction_following,” “question_answering_quality,” and more. These metrics help you measure the grounded text you get from the LLM (for some metrics that is a comparison to a ground truth answer you have provided). Implementing these evaluations gives you a baseline measurement and you can optimize for RAG quality by configuring your search engine, curating your source data, improving source layout parsing or chunking strategies, or refining the user’s question prior to search. A RAG Ops, metrics driven approach like this will help you hill climb to high quality RAG and grounded generation. RAGs, agents, and chatbots RAG and grounding can be integrated into any LLM application or agent which needs access to fresh, private, or specialized data. By accessing external information, RAG-powered chatbots and conversational agents leverage external knowledge to provide more comprehensive, informative, and context-aware responses, improving the overall user experience. Your data and your use case are what differentiate what you are building with gen AI. RAG and grounding bring your data to LLMs efficiently and scalably. What Google Cloud products and services are related to RAG? The following Google Cloud products are related to Retrieval-Augmented Generation: Vertex AI SearchVertex AI Search is Google Search for your data, a fully managed, out-of-the-box search and RAG builder. Vertex AI Vector SearchThe ultra performant vector index that powers Vertex AI Search; it enables semantic and hybrid search and retrieval from huge collections of embeddings with high recall at high query rate. BigQueryLarge datasets that you can use to train machine learning models, including models for Vertex AI Vector Search. Grounded Generation APIGemini high-fidelity mode grounded with Google Search or inline facts or bring your own search engine. AlloyDBRun models in Vertex AI and access them in your application using familiar SQL queries. Use Google models, such as Gemini, or your own custom models. LlamaIndex on VertexBuild your own search engine for RAG and grounding using Google or open source components and our fully managed orchestration system based on LlamaIndex. Learn more about using retrieval augmented generation with these resources. Using Vertex AI to build next-gen search applications | Google Cloud Blog RAGs powered by Google Search technology RAG with databases on Google Cloud Infrastructure for a RAG-capable generative AI application using Vertex AI APIs to build your own search and Retrieval Augmented Generation (RAG) systems How to use RAG in BigQuery to bolster LLMs Code sample and quickstart to get familiar with RAG Start building on Google Cloud with $300 in free credits and 20+ always free products. Need help getting started?Contact sales Work with a trusted partnerFind a partner Continue browsingSee all products What is Cloud Computing? Cloud Computing Concepts Hub Artificial Intelligence Generative AI What is RAG (Retrieval-Augmented Generation)? What is Retrieval-Augmented Generation? Retrieval-Augmented Generation (RAG) is the process of optimizing the output of a large language model, so it references an authoritative knowledge base outside of its training data sources before generating a response. Large Language Models (LLMs) are trained on vast volumes of data and use billions of parameters to generate original output for tasks like answering questions, translating languages, and completing sentences. RAG extends the already powerful capabilities of LLMs to specific domains or an organization\\'s internal knowledge base, all without the need to retrain the model. It is a cost-effective approach to improving LLM output so it remains relevant, accurate, and useful in various contexts. Why is Retrieval-Augmented Generation important? LLMs are a key artificial intelligence (AI) technology powering intelligent chatbots and other natural language processing (NLP) applications. The goal is to create bots that can answer user questions in various contexts by cross-referencing authoritative knowledge sources. Unfortunately, the nature of LLM technology introduces unpredictability in LLM responses. Additionally, LLM training data is static and introduces a cut-off date on the knowledge it has. Known challenges of LLMs include: Presenting false information when it does not have the answer. Presenting out-of-date or generic information when the user expects a specific, current response. Creating a response from non-authoritative sources. Creating inaccurate responses due to terminology confusion, wherein different training sources use the same terminology to talk about different things. You can think of the Large Language Model as an over-enthusiastic new employee who refuses to stay informed with current events but will always answer every question with absolute confidence. Unfortunately, such an attitude can negatively impact user trust and is not something you want your chatbots to emulate! RAG is one approach to solving some of these challenges. It redirects the LLM to retrieve relevant information from authoritative, pre-determined knowledge sources. Organizations have greater control over the generated text output, and users gain insights into how the LLM generates the response. What are the benefits of Retrieval-Augmented Generation? RAG technology brings several benefits to an organization\\'s generative AI efforts. Cost-effective implementation Chatbot development typically begins using a foundation model. Foundation models (FMs) are API-accessible LLMs trained on a broad spectrum of generalized and unlabeled data. The computational and financial costs of retraining FMs for organization or domain-specific information are high. RAG is a more cost-effective approach to introducing new data to the LLM. It makes generative artificial intelligence (generative AI) technology more broadly accessible and usable. Current information Even if the original training data sources for an LLM are suitable for your needs, it is challenging to maintain relevancy. RAG allows developers to provide the latest research, statistics, or news to the generative models. They can use RAG to connect the LLM directly to live social media feeds, news sites, or other frequently-updated information sources. The LLM can then provide the latest information to the users. Enhanced user trust RAG allows the LLM to present accurate information with source attribution. The output can include citations or references to sources. Users can also look up source documents themselves if they require further clarification or more detail. This can increase trust and confidence in your generative AI solution. More developer control With RAG, developers can test and improve their chat applications more efficiently. They can control and change the LLM\\'s information sources to adapt to changing requirements or cross-functional usage. Developers can also restrict sensitive information retrieval to different authorization levels and ensure the LLM generates appropriate responses. In addition, they can also troubleshoot and make fixes if the LLM references incorrect information sources for specific questions. Organizations can implement generative AI technology more confidently for a broader range of applications. How does Retrieval-Augmented Generation work? Without RAG, the LLM takes the user input and creates a response based on information it was trained on—or what it already knows. With RAG, an information retrieval component is introduced that utilizes the user input to first pull information from a new data source. The user query and the relevant information are both given to the LLM. The LLM uses the new knowledge and its training data to create better responses. The following sections provide an overview of the process. Create external data The new data outside of the LLM\\'s original training data set is called external data. It can come from multiple data sources, such as a APIs, databases, or document repositories. The data may exist in various formats like files, database records, or long-form text. Another AI technique, called embedding language models, converts data into numerical representations and stores it in a vector database. This process creates a knowledge library that the generative AI models can understand. Retrieve relevant information The next step is to perform a relevancy search. The user query is converted to a vector representation and matched with the vector databases. For example, consider a smart chatbot that can answer human resource questions for an organization. If an employee searches, \"How much annual leave do I have?\" the system will retrieve annual leave policy documents alongside the individual employee\\'s past leave record. These specific documents will be returned because they are highly-relevant to what the employee has input. The relevancy was calculated and established using mathematical vector calculations and representations. Augment the LLM prompt Next, the RAG model augments the user input (or prompts) by adding the relevant retrieved data in context. This step uses prompt engineering techniques to communicate effectively with the LLM. The augmented prompt allows the large language models to generate an accurate answer to user queries. Update external data The next question may be—what if the external data becomes stale? To maintain current information for retrieval, asynchronously update the documents and update embedding representation of the documents. You can do this through automated real-time processes or periodic batch processing. This is a common challenge in data analytics—different data-science approaches to change management can be used. The following diagram shows the conceptual flow of using RAG with LLMs. What is the difference between Retrieval-Augmented Generation and semantic search? Semantic search enhances RAG results for organizations wanting to add vast external knowledge sources to their LLM applications. Modern enterprises store vast amounts of information like manuals, FAQs, research reports, customer service guides, and human resource document repositories across various systems. Context retrieval is challenging at scale and consequently lowers generative output quality. Semantic search technologies can scan large databases of disparate information and retrieve data more accurately. For example, they can answer questions such as, \"How much was spent on machinery repairs last year?” by mapping the question to the relevant documents and returning specific text instead of search results. Developers can then use that answer to provide more context to the LLM. Conventional or keyword search solutions in RAG produce limited results for knowledge-intensive tasks. Developers must also deal with word embeddings, document chunking, and other complexities as they manually prepare their data. In contrast, semantic search technologies do all the work of knowledge base preparation so developers don\\'t have to. They also generate semantically relevant passages and token words ordered by relevance to maximize the quality of the RAG payload. How can AWS support your Retrieval-Augmented Generation requirements? Amazon Bedrock is a fully-managed service that offers a choice of high-performing foundation models—along with a broad set of capabilities—to build generative AI applications while simplifying development and maintaining privacy and security. With knowledge bases for Amazon Bedrock, you can connect FMs to your data sources for RAG in just a few clicks. Vector conversions, retrievals, and improved output generation are all handled automatically. For organizations managing their own RAG, Amazon Kendra is a highly-accurate enterprise search service powered by machine learning. It provides an optimized Kendra Retrieve API that you can use with Amazon Kendra’s high-accuracy semantic ranker as an enterprise retriever for your RAG workflows. For example, with the Retrieve API, you can: Retrieve up to 100 semantically-relevant passages of up to 200 token words each, ordered by relevance. Use pre-built connectors to popular data technologies like Amazon Simple Storage Service, SharePoint, Confluence, and other websites. Support a wide range of document formats such as HTML, Word, PowerPoint, PDF, Excel, and text files. Filter responses based on those documents that the end-user permissions allow. Amazon also offers options for organizations who want to build more custom generative AI solutions. Amazon SageMaker JumpStart is a ML hub with FMs, built-in algorithms, and prebuilt ML solutions that you can deploy with just a few clicks. You can speed up RAG implementation by referring to existing SageMaker notebooks and code examples. Get started with Retrieval-Augmented Generation on AWS by creating a free account today Next Steps on AWS Instant get access to the AWS Free Tier. Get started building in the AWS management console. Accessibility Policy Skip to content QUICK LINKS Oracle Cloud Infrastructure Oracle Fusion Cloud Applications Oracle Database Download Java Careers at Oracle What Is Retrieval-Augmented Generation (RAG)? Alan Zeichick | Tech Content Strategist | September 19, 2023 In This Article What Is Retrieval-Augmented Generation (RAG)? Retrieval-Augmented Generation Explained How Does Retrieval-Augmented Generation Work? Using RAG in Chat Applications Benefits of Retrieval-Augmented Generation Challenges of Retrieval-Augmented Generation Examples of Retrieval-Augmented Generation Future of Retrieval-Augmented Generation Generative AI With Oracle Retrieval-Augmented Generation FAQs Generative artificial intelligence (AI) excels at creating text responses based on large language models (LLMs) where the AI is trained on a massive number of data points. The good news is that the generated text is often easy to read and provides detailed responses that are broadly applicable to the questions asked of the software, often called prompts. The bad news is that the information used to generate the response is limited to the information used to train the AI, often a generalized LLM. The LLM’s data may be weeks, months, or years out of date and in a corporate AI chatbot may not include specific information about the organization’s products or services. That can lead to incorrect responses that erode confidence in the technology among customers and employees. What Is Retrieval-Augmented Generation (RAG)? That’s where retrieval-augmented generation (RAG) comes in. RAG provides a way to optimize the output of an LLM with targeted information without modifying the underlying model itself; that targeted information can be more up-to-date than the LLM as well as specific to a particular organization and industry. That means the generative AI system can provide more contextually appropriate answers to prompts as well as base those answers on extremely current data. RAG first came to the attention of generative AI developers after the publication of “Retrieval-Augmented Generation for Knowledge-Intensive NLP Tasks,” a 2020 paper published by Patrick Lewis and a team at Facebook AI Research. The RAG concept has been embraced by many academic and industry researchers, who see it as a way to significantly improve the value of generative AI systems. Retrieval-Augmented Generation Explained Consider a sports league that wants fans and the media to be able to use chat to access its data and answer questions about players, teams, the sport’s history and rules, and current stats and standings. A generalized LLM could answer questions about the history and rules or perhaps describe a particular team’s stadium. It wouldn’t be able to discuss last night’s game or provide current information about a particular athlete’s injury because the LLM wouldn’t have that information—and given that an LLM takes significant computing horsepower to retrain, it isn’t feasible to keep the model current. In addition to the large, fairly static LLM, the sports league owns or can access many other information sources, including databases, data warehouses, documents containing player bios, and news feeds that discuss each game in depth. RAG lets the generative AI ingest this information. Now, the chat can provide information that’s more timely, more contextually appropriate, and more accurate. Simply put, RAG helps LLMs give better answers. Key Takeaways RAG is a relatively new artificial intelligence technique that can improve the quality of generative AI by allowing large language model (LLMs) to tap additional data resources without retraining. RAG models build knowledge repositories based on the organization’s own data, and the repositories can be continually updated to help the generative AI provide timely, contextual answers. Chatbots and other conversational systems that use natural language processing can benefit greatly from RAG and generative AI. Implementing RAG requires technologies such as vector databases, which allow for the rapid coding of new data, and searches against that data to feed into the LLM. How Does Retrieval-Augmented Generation Work? Consider all the information that an organization has—the structured databases, the unstructured PDFs and other documents, the blogs, the news feeds, the chat transcripts from past customer service sessions. In RAG, this vast quantity of dynamic data is translated into a common format and stored in a knowledge library that’s accessible to the generative AI system. The data in that knowledge library is then processed into numerical representations using a special type of algorithm called an embedded language model and stored in a vector database, which can be quickly searched and used to retrieve the correct contextual information. RAG and Large Language Models (LLMs) Now, say an end user sends the generative AI system a specific prompt, for example, “Where will tonight’s game be played, who are the starting players, and what are reporters saying about the matchup?” The query is transformed into a vector and used to query the vector database, which retrieves information relevant to that question’s context. That contextual information plus the original prompt are then fed into the LLM, which generates a text response based on both its somewhat out-of-date generalized knowledge and the extremely timely contextual information. Interestingly, while the process of training the generalized LLM is time-consuming and costly, updates to the RAG model are just the opposite. New data can be loaded into the embedded language model and translated into vectors on a continuous, incremental basis. In fact, the answers from the entire generative AI system can be fed back into the RAG model, improving its performance and accuracy, because, in effect, it knows how it has already answered a similar question. An additional benefit of RAG is that by using the vector database, the generative AI can provide the specific source of data cited in its answer—something LLMs can’t do. Therefore, if there’s an inaccuracy in the generative AI’s output, the document that contains that erroneous information can be quickly identified and corrected, and then the corrected information can be fed into the vector database. In short, RAG provides timeliness, context, and accuracy grounded in evidence to generative AI, going beyond what the LLM itself can provide. Retrieval-Augmented Generation vs. Semantic Search RAG isn’t the only technique used to improve the accuracy of LLM-based generative AI. Another technique is semantic search, which helps the AI system narrow down the meaning of a query by seeking deep understanding of the specific words and phrases in the prompt. Traditional search is focused on keywords. For example, a basic query asking about the tree species native to France might search the AI system’s database using “trees” and “France” as keywords and find data that contains both keywords—but the system might not truly comprehend the meaning of trees in France and therefore may retrieve too much information, too little, or even the wrong information. That keyword-based search might also miss information because the keyword search is too literal: The trees native to Normandy might be missed, even though they’re in France, because that keyword was missing. Semantic search goes beyond keyword search by determining the meaning of questions and source documents and using that meaning to retrieve more accurate results. Semantic search is an integral part of RAG. Using RAG in Chat Applications When a person wants an instant answer to a question, it’s hard to beat the immediacy and usability of a chatbot. Most bots are trained on a finite number of intents—that is, the customer’s desired tasks or outcomes—and they respond to those intents. RAG capabilities can make current bots better by allowing the AI system to provide natural language answers to questions that aren’t in the intent list. The “ask a question, get an answer” paradigm makes chatbots a perfect use case for generative AI, for many reasons. Questions often require specific context to generate an accurate answer, and given that chatbot users’ expectations about relevance and accuracy are often high, it’s clear how RAG techniques apply. In fact, for many organizations, chatbots may indeed be the starting point for RAG and generative AI use. Questions often require specific context to deliver an accurate answer. Customer queries about a newly introduced product, for example, aren’t useful if the data pertains to the previous model and may in fact be misleading. And a hiker who wants to know if a park is open this Sunday expects timely, accurate information about that specific park on that specific date. Benefits of Retrieval-Augmented Generation RAG techniques can be used to improve the quality of a generative AI system’s responses to prompts, beyond what an LLM alone can deliver. Benefits include the following: The RAG has access to information that may be fresher than the data used to train the LLM. Data in the RAG’s knowledge repository can be continually updated without incurring significant costs. The RAG’s knowledge repository can contain data that’s more contextual than the data in a generalized LLM. The source of the information in the RAG’s vector database can be identified. And because the data sources are known, incorrect information in the RAG can be corrected or deleted. Challenges of Retrieval-Augmented Generation Because RAG is a relatively new technology, first proposed in 2020, AI developers are still learning how to best implement its information retrieval mechanisms in generative AI. Some key challenges are Improving organizational knowledge and understanding of RAG because it’s so new Increasing costs; while generative AI with RAG will be more expensive to implement than an LLM on its own, this route is less costly than frequently retraining the LLM itself Determining how to best model the structured and unstructured data within the knowledge library and vector database Developing requirements for a process to incrementally feed data into the RAG system Putting processes in place to handle reports of inaccuracies and to correct or delete those information sources in the RAG system Examples of Retrieval-Augmented Generation There are many possible examples of generative AI augmented by RAG. Cohere, a leader in the field of generative AI and RAG, has written about a chatbot that can provide contextual information about a vacation rental in the Canary Islands, including fact-based answers about beach accessibility, lifeguards on nearby beaches, and the availability of volleyball courts within walking distance. Oracle has described other use cases for RAG, such as analyzing financial reports, assisting with gas and oil discovery, reviewing transcripts from call center customer exchanges, and searching medical databases for relevant research papers. Future of Retrieval-Augmented Generation Today, in the early phases of RAG, the technology is being used to provide timely, accurate, and contextual responses to queries. These use cases are appropriate to chatbots, email, text messaging, and other conversational applications. In the future, possible directions for RAG technology would be to help generative AI take an appropriate action based on contextual information and user prompts. For example, a RAG-augmented AI system might identify the highest-rated beach vacation rental on the Canary Islands and then initiate booking a two-bedroom cabin within walking distance of the beach during a volleyball tournament. RAG might also be able to assist with more sophisticated lines of questioning. Today, generative AI might be able to tell an employee about the company’s tuition reimbursement policy; RAG could add more contextual data to tell the employee which nearby schools have courses that fit into that policy and perhaps recommend programs that are suited to the employee’s jobs and previous training—maybe even help apply for those programs and initiate a reimbursement request. Generative AI With Oracle Oracle offers a variety of advanced cloud-based AI services, including the OCI Generative AI service running on Oracle Cloud Infrastructure (OCI). Oracle’s offerings include robust models based on your organization’s unique data and industry knowledge. Customer data is not shared with LLM providers or seen by other customers, and custom models trained on customer data can only be used by that customer. In addition, Oracle is integrating generative AI across its wide range of cloud applications, and generative AI capabilities are available to developers who use OCI and across its database portfolio. What’s more, Oracle’s AI services offer predictable performance and pricing using single-tenant AI clusters dedicated to your use. The power and capabilities of LLMs and generative AI are widely known and understood—they’ve been the subject of breathless news headlines for the past year. Retrieval-augmented generation builds on the benefits of LLMs by making them more timely, more accurate, and more contextual. For business applications of generative AI, RAG is an important technology to watch, study, and pilot. Oracle offers a modern data platform and low-cost, high-performance AI infrastructure. Additional factors, such as powerful, high-performing models, unrivaled data security, and embedded AI services demonstrate why Oracle’s AI offering is truly built for enterprises. Retrieval-Augmented Generation FAQs Is RAG the same as generative AI? No. Retrieval-augmented generation is a technique that can provide more accurate results to queries than a generative large language model on its own because RAG uses knowledge external to data already contained in the LLM. What type of information is used in RAG? RAG can incorporate data from many sources, such as relational databases, unstructured document repositories, internet data streams, media newsfeeds, audio transcripts, and transaction logs. How does generative AI use RAG? Data from enterprise data sources is embedded into a knowledge repository and then converted to vectors, which are stored in a vector database. When an end user makes a query, the vector database retrieves relevant contextual information. This contextual information, along with the query, is sent to the large language model, which uses the context to create a more timely, accurate, and contextual response. Can a RAG cite references for the data it retrieves? Yes. The vector databases and knowledge repositories used by RAG contain specific information about the sources of information. This means that sources can be cited, and if there’s an error in one of those sources it can be quickly corrected or deleted so that subsequent queries won’t return that incorrect information.'"
            ],
            "application/vnd.google.colaboratory.intrinsic+json": {
              "type": "string"
            }
          },
          "metadata": {},
          "execution_count": 127
        }
      ]
    },
    {
      "cell_type": "code",
      "source": [
        "len(final_text)"
      ],
      "metadata": {
        "colab": {
          "base_uri": "https://localhost:8080/"
        },
        "id": "3tVooRvGc-0q",
        "outputId": "f7b8f98d-6875-4081-eefe-ebc9f478d095"
      },
      "execution_count": 128,
      "outputs": [
        {
          "output_type": "execute_result",
          "data": {
            "text/plain": [
              "32088"
            ]
          },
          "metadata": {},
          "execution_count": 128
        }
      ]
    },
    {
      "cell_type": "code",
      "source": [],
      "metadata": {
        "id": "Zj0rl_81wOn5"
      },
      "execution_count": 128,
      "outputs": []
    },
    {
      "cell_type": "markdown",
      "metadata": {
        "id": "yWZsofpzHH5K"
      },
      "source": [
        "# Knowledge base using sentence embenddings"
      ]
    },
    {
      "cell_type": "code",
      "source": [
        "from sentence_transformers import SentenceTransformer\n",
        "from sklearn.cluster import KMeans\n",
        "import faiss # Facebook AI Similarity Seacrh\n",
        "import numpy as np\n",
        "import matplotlib.pyplot as plt\n",
        "from sklearn.metrics import silhouette_score"
      ],
      "metadata": {
        "id": "XyPToldRbWpY"
      },
      "execution_count": 129,
      "outputs": []
    },
    {
      "cell_type": "code",
      "source": [
        "import nltk\n",
        "from nltk.tokenize import sent_tokenize\n",
        "nltk.download('punkt_tab')\n",
        "\n",
        "# Example corpus\n",
        "corpus = final_text\n",
        "sentences = sent_tokenize(corpus)"
      ],
      "metadata": {
        "colab": {
          "base_uri": "https://localhost:8080/"
        },
        "collapsed": true,
        "id": "J8Mzp4muhMDL",
        "outputId": "88062b29-0959-46c0-da08-906926dbce7e"
      },
      "execution_count": 130,
      "outputs": [
        {
          "output_type": "stream",
          "name": "stderr",
          "text": [
            "[nltk_data] Downloading package punkt_tab to /root/nltk_data...\n",
            "[nltk_data]   Package punkt_tab is already up-to-date!\n"
          ]
        }
      ]
    },
    {
      "cell_type": "code",
      "source": [
        "sentences"
      ],
      "metadata": {
        "collapsed": true,
        "colab": {
          "base_uri": "https://localhost:8080/"
        },
        "id": "5MAbfeQ8p5za",
        "outputId": "426b4e56-0bd8-4983-c07e-930b3c72cdfc"
      },
      "execution_count": 131,
      "outputs": [
        {
          "output_type": "execute_result",
          "data": {
            "text/plain": [
              "['What is Retrieval-Augmented Generation (RAG)?',\n",
              " 'RAG (Retrieval-Augmented Generation) is an AI framework that combines the strengths of traditional information retrieval systems (such as search and databases) with the capabilities of generative large language models (LLMs).',\n",
              " 'By combining your data and world knowledge with LLM language skills, grounded generation is more accurate, up-to-date, and relevant to your specific needs.',\n",
              " 'Check out this e-book to unlock your “Enterprise Truth.” How does Retrieval-Augmented Generation work?',\n",
              " 'RAGs operate with a few main steps to help enhance generative AI outputs: Retrieval and pre-processing: RAGs leverage powerful search algorithms to query external data, such as web pages, knowledge bases, and databases.',\n",
              " 'Once retrieved, the relevant information undergoes pre-processing, including tokenization, stemming, and removal of stop words.',\n",
              " 'Grounded generation: The pre-processed retrieved information is then seamlessly incorporated into the pre-trained LLM.',\n",
              " \"This integration enhances the LLM's context, providing it with a more comprehensive understanding of the topic.\",\n",
              " 'This augmented context enables the LLM to generate more precise, informative, and engaging responses.',\n",
              " 'Why Use RAG?',\n",
              " 'RAG offers several advantages augmenting traditional methods of text generation, especially when dealing with factual information or data-driven responses.',\n",
              " 'Here are some key reasons why using RAG can be beneficial: Access to fresh information LLMs are limited to their pre-trained data.',\n",
              " 'This leads to outdated and potentially inaccurate responses.',\n",
              " 'RAG overcomes this by providing up-to-date information to LLMs.',\n",
              " 'Factual grounding LLMs are powerful tools for generating creative and engaging text, but they can sometimes struggle with factual accuracy.',\n",
              " 'This is because LLMs are trained on massive amounts of text data, which may contain inaccuracies or biases.',\n",
              " 'Providing “facts” to the LLM as part of the input prompt can mitigate “gen AI hallucinations.” The crux of this approach is ensuring that the most relevant facts are provided to the LLM, and that the LLM output is entirely grounded on those facts while also answering the user’s question and adhering to system instructions and safety constraints.',\n",
              " 'Using Gemini’s long context window (LCW) is a great way to provide source materials to the LLM.',\n",
              " 'If you need to provide more information than fits into the LCW, or if you need to scale up performance, you can use a RAG approach that will reduce the number of tokens, saving you time and cost.',\n",
              " 'Search with vector databases and relevancy re-rankers RAGs usually retrieve facts via search, and modern search engines now leverage vector databases to efficiently retrieve relevant documents.',\n",
              " 'Vector databases store documents as embeddings in a high-dimensional space, allowing for fast and accurate retrieval based on semantic similarity.',\n",
              " 'Multi-modal embeddings can be used for images, audio and video, and more and these media embeddings can be retrieved alongside text embeddings or multi-language embeddings.',\n",
              " 'Advanced search engines like Vertex AI Search use semantic search and keyword search together (called hybrid search), and a re-ranker which scores search results to ensure the top returned results are the most relevant.',\n",
              " 'Additionally searches perform better with a clear, focused query without misspellings; so prior to lookup, sophisticated search engines will transform a query and fix spelling mistakes.',\n",
              " 'Relevance, accuracy, and quality The retrieval mechanism in RAG is critically important.',\n",
              " 'You need the best semantic search on top of a curated knowledge base to ensure that the retrieved information is relevant to the input query or context.',\n",
              " 'If your retrieved information is irrelevant, your generation could be grounded but off-topic or incorrect.',\n",
              " 'By fine-tuning or prompt-engineering the LLM to generate text entirely based on the retrieved knowledge, RAG helps to minimize contradictions and inconsistencies in the generated text.',\n",
              " 'This significantly improves the quality of the generated text, and improves the user experience.',\n",
              " 'The Vertex Eval Service now scores LLM generated text and retrieved chunks on metrics like “coherence,” “fluency,” “groundedness,” \"safety,\" “instruction_following,” “question_answering_quality,” and more.',\n",
              " 'These metrics help you measure the grounded text you get from the LLM (for some metrics that is a comparison to a ground truth answer you have provided).',\n",
              " 'Implementing these evaluations gives you a baseline measurement and you can optimize for RAG quality by configuring your search engine, curating your source data, improving source layout parsing or chunking strategies, or refining the user’s question prior to search.',\n",
              " 'A RAG Ops, metrics driven approach like this will help you hill climb to high quality RAG and grounded generation.',\n",
              " 'RAGs, agents, and chatbots RAG and grounding can be integrated into any LLM application or agent which needs access to fresh, private, or specialized data.',\n",
              " 'By accessing external information, RAG-powered chatbots and conversational agents leverage external knowledge to provide more comprehensive, informative, and context-aware responses, improving the overall user experience.',\n",
              " 'Your data and your use case are what differentiate what you are building with gen AI.',\n",
              " 'RAG and grounding bring your data to LLMs efficiently and scalably.',\n",
              " 'What Google Cloud products and services are related to RAG?',\n",
              " 'The following Google Cloud products are related to Retrieval-Augmented Generation: Vertex AI SearchVertex AI Search is Google Search for your data, a fully managed, out-of-the-box search and RAG builder.',\n",
              " 'Vertex AI Vector SearchThe ultra performant vector index that powers Vertex AI Search; it enables semantic and hybrid search and retrieval from huge collections of embeddings with high recall at high query rate.',\n",
              " 'BigQueryLarge datasets that you can use to train machine learning models, including models for Vertex AI Vector Search.',\n",
              " 'Grounded Generation APIGemini high-fidelity mode grounded with Google Search or inline facts or bring your own search engine.',\n",
              " 'AlloyDBRun models in Vertex AI and access them in your application using familiar SQL queries.',\n",
              " 'Use Google models, such as Gemini, or your own custom models.',\n",
              " 'LlamaIndex on VertexBuild your own search engine for RAG and grounding using Google or open source components and our fully managed orchestration system based on LlamaIndex.',\n",
              " 'Learn more about using retrieval augmented generation with these resources.',\n",
              " 'Using Vertex AI to build next-gen search applications | Google Cloud Blog RAGs powered by Google Search technology RAG with databases on Google Cloud Infrastructure for a RAG-capable generative AI application using Vertex AI APIs to build your own search and Retrieval Augmented Generation (RAG) systems How to use RAG in BigQuery to bolster LLMs Code sample and quickstart to get familiar with RAG Start building on Google Cloud with $300 in free credits and 20+ always free products.',\n",
              " 'Need help getting started?Contact sales Work with a trusted partnerFind a partner Continue browsingSee all products What is Cloud Computing?',\n",
              " 'Cloud Computing Concepts Hub Artificial Intelligence Generative AI What is RAG (Retrieval-Augmented Generation)?',\n",
              " 'What is Retrieval-Augmented Generation?',\n",
              " 'Retrieval-Augmented Generation (RAG) is the process of optimizing the output of a large language model, so it references an authoritative knowledge base outside of its training data sources before generating a response.',\n",
              " 'Large Language Models (LLMs) are trained on vast volumes of data and use billions of parameters to generate original output for tasks like answering questions, translating languages, and completing sentences.',\n",
              " \"RAG extends the already powerful capabilities of LLMs to specific domains or an organization's internal knowledge base, all without the need to retrain the model.\",\n",
              " 'It is a cost-effective approach to improving LLM output so it remains relevant, accurate, and useful in various contexts.',\n",
              " 'Why is Retrieval-Augmented Generation important?',\n",
              " 'LLMs are a key artificial intelligence (AI) technology powering intelligent chatbots and other natural language processing (NLP) applications.',\n",
              " 'The goal is to create bots that can answer user questions in various contexts by cross-referencing authoritative knowledge sources.',\n",
              " 'Unfortunately, the nature of LLM technology introduces unpredictability in LLM responses.',\n",
              " 'Additionally, LLM training data is static and introduces a cut-off date on the knowledge it has.',\n",
              " 'Known challenges of LLMs include: Presenting false information when it does not have the answer.',\n",
              " 'Presenting out-of-date or generic information when the user expects a specific, current response.',\n",
              " 'Creating a response from non-authoritative sources.',\n",
              " 'Creating inaccurate responses due to terminology confusion, wherein different training sources use the same terminology to talk about different things.',\n",
              " 'You can think of the Large Language Model as an over-enthusiastic new employee who refuses to stay informed with current events but will always answer every question with absolute confidence.',\n",
              " 'Unfortunately, such an attitude can negatively impact user trust and is not something you want your chatbots to emulate!',\n",
              " 'RAG is one approach to solving some of these challenges.',\n",
              " 'It redirects the LLM to retrieve relevant information from authoritative, pre-determined knowledge sources.',\n",
              " 'Organizations have greater control over the generated text output, and users gain insights into how the LLM generates the response.',\n",
              " 'What are the benefits of Retrieval-Augmented Generation?',\n",
              " \"RAG technology brings several benefits to an organization's generative AI efforts.\",\n",
              " 'Cost-effective implementation Chatbot development typically begins using a foundation model.',\n",
              " 'Foundation models (FMs) are API-accessible LLMs trained on a broad spectrum of generalized and unlabeled data.',\n",
              " 'The computational and financial costs of retraining FMs for organization or domain-specific information are high.',\n",
              " 'RAG is a more cost-effective approach to introducing new data to the LLM.',\n",
              " 'It makes generative artificial intelligence (generative AI) technology more broadly accessible and usable.',\n",
              " 'Current information Even if the original training data sources for an LLM are suitable for your needs, it is challenging to maintain relevancy.',\n",
              " 'RAG allows developers to provide the latest research, statistics, or news to the generative models.',\n",
              " 'They can use RAG to connect the LLM directly to live social media feeds, news sites, or other frequently-updated information sources.',\n",
              " 'The LLM can then provide the latest information to the users.',\n",
              " 'Enhanced user trust RAG allows the LLM to present accurate information with source attribution.',\n",
              " 'The output can include citations or references to sources.',\n",
              " 'Users can also look up source documents themselves if they require further clarification or more detail.',\n",
              " 'This can increase trust and confidence in your generative AI solution.',\n",
              " 'More developer control With RAG, developers can test and improve their chat applications more efficiently.',\n",
              " \"They can control and change the LLM's information sources to adapt to changing requirements or cross-functional usage.\",\n",
              " 'Developers can also restrict sensitive information retrieval to different authorization levels and ensure the LLM generates appropriate responses.',\n",
              " 'In addition, they can also troubleshoot and make fixes if the LLM references incorrect information sources for specific questions.',\n",
              " 'Organizations can implement generative AI technology more confidently for a broader range of applications.',\n",
              " 'How does Retrieval-Augmented Generation work?',\n",
              " 'Without RAG, the LLM takes the user input and creates a response based on information it was trained on—or what it already knows.',\n",
              " 'With RAG, an information retrieval component is introduced that utilizes the user input to first pull information from a new data source.',\n",
              " 'The user query and the relevant information are both given to the LLM.',\n",
              " 'The LLM uses the new knowledge and its training data to create better responses.',\n",
              " 'The following sections provide an overview of the process.',\n",
              " \"Create external data The new data outside of the LLM's original training data set is called external data.\",\n",
              " 'It can come from multiple data sources, such as a APIs, databases, or document repositories.',\n",
              " 'The data may exist in various formats like files, database records, or long-form text.',\n",
              " 'Another AI technique, called embedding language models, converts data into numerical representations and stores it in a vector database.',\n",
              " 'This process creates a knowledge library that the generative AI models can understand.',\n",
              " 'Retrieve relevant information The next step is to perform a relevancy search.',\n",
              " 'The user query is converted to a vector representation and matched with the vector databases.',\n",
              " 'For example, consider a smart chatbot that can answer human resource questions for an organization.',\n",
              " 'If an employee searches, \"How much annual leave do I have?\"',\n",
              " \"the system will retrieve annual leave policy documents alongside the individual employee's past leave record.\",\n",
              " 'These specific documents will be returned because they are highly-relevant to what the employee has input.',\n",
              " 'The relevancy was calculated and established using mathematical vector calculations and representations.',\n",
              " 'Augment the LLM prompt Next, the RAG model augments the user input (or prompts) by adding the relevant retrieved data in context.',\n",
              " 'This step uses prompt engineering techniques to communicate effectively with the LLM.',\n",
              " 'The augmented prompt allows the large language models to generate an accurate answer to user queries.',\n",
              " 'Update external data The next question may be—what if the external data becomes stale?',\n",
              " 'To maintain current information for retrieval, asynchronously update the documents and update embedding representation of the documents.',\n",
              " 'You can do this through automated real-time processes or periodic batch processing.',\n",
              " 'This is a common challenge in data analytics—different data-science approaches to change management can be used.',\n",
              " 'The following diagram shows the conceptual flow of using RAG with LLMs.',\n",
              " 'What is the difference between Retrieval-Augmented Generation and semantic search?',\n",
              " 'Semantic search enhances RAG results for organizations wanting to add vast external knowledge sources to their LLM applications.',\n",
              " 'Modern enterprises store vast amounts of information like manuals, FAQs, research reports, customer service guides, and human resource document repositories across various systems.',\n",
              " 'Context retrieval is challenging at scale and consequently lowers generative output quality.',\n",
              " 'Semantic search technologies can scan large databases of disparate information and retrieve data more accurately.',\n",
              " 'For example, they can answer questions such as, \"How much was spent on machinery repairs last year?” by mapping the question to the relevant documents and returning specific text instead of search results.',\n",
              " 'Developers can then use that answer to provide more context to the LLM.',\n",
              " 'Conventional or keyword search solutions in RAG produce limited results for knowledge-intensive tasks.',\n",
              " 'Developers must also deal with word embeddings, document chunking, and other complexities as they manually prepare their data.',\n",
              " \"In contrast, semantic search technologies do all the work of knowledge base preparation so developers don't have to.\",\n",
              " 'They also generate semantically relevant passages and token words ordered by relevance to maximize the quality of the RAG payload.',\n",
              " 'How can AWS support your Retrieval-Augmented Generation requirements?',\n",
              " 'Amazon Bedrock is a fully-managed service that offers a choice of high-performing foundation models—along with a broad set of capabilities—to build generative AI applications while simplifying development and maintaining privacy and security.',\n",
              " 'With knowledge bases for Amazon Bedrock, you can connect FMs to your data sources for RAG in just a few clicks.',\n",
              " 'Vector conversions, retrievals, and improved output generation are all handled automatically.',\n",
              " 'For organizations managing their own RAG, Amazon Kendra is a highly-accurate enterprise search service powered by machine learning.',\n",
              " 'It provides an optimized Kendra Retrieve API that you can use with Amazon Kendra’s high-accuracy semantic ranker as an enterprise retriever for your RAG workflows.',\n",
              " 'For example, with the Retrieve API, you can: Retrieve up to 100 semantically-relevant passages of up to 200 token words each, ordered by relevance.',\n",
              " 'Use pre-built connectors to popular data technologies like Amazon Simple Storage Service, SharePoint, Confluence, and other websites.',\n",
              " 'Support a wide range of document formats such as HTML, Word, PowerPoint, PDF, Excel, and text files.',\n",
              " 'Filter responses based on those documents that the end-user permissions allow.',\n",
              " 'Amazon also offers options for organizations who want to build more custom generative AI solutions.',\n",
              " 'Amazon SageMaker JumpStart is a ML hub with FMs, built-in algorithms, and prebuilt ML solutions that you can deploy with just a few clicks.',\n",
              " 'You can speed up RAG implementation by referring to existing SageMaker notebooks and code examples.',\n",
              " 'Get started with Retrieval-Augmented Generation on AWS by creating a free account today Next Steps on AWS Instant get access to the AWS Free Tier.',\n",
              " 'Get started building in the AWS management console.',\n",
              " 'Accessibility Policy Skip to content QUICK LINKS Oracle Cloud Infrastructure Oracle Fusion Cloud Applications Oracle Database Download Java Careers at Oracle What Is Retrieval-Augmented Generation (RAG)?',\n",
              " 'Alan Zeichick | Tech Content Strategist | September 19, 2023 In This Article What Is Retrieval-Augmented Generation (RAG)?',\n",
              " 'Retrieval-Augmented Generation Explained How Does Retrieval-Augmented Generation Work?',\n",
              " 'Using RAG in Chat Applications Benefits of Retrieval-Augmented Generation Challenges of Retrieval-Augmented Generation Examples of Retrieval-Augmented Generation Future of Retrieval-Augmented Generation Generative AI With Oracle Retrieval-Augmented Generation FAQs Generative artificial intelligence (AI) excels at creating text responses based on large language models (LLMs) where the AI is trained on a massive number of data points.',\n",
              " 'The good news is that the generated text is often easy to read and provides detailed responses that are broadly applicable to the questions asked of the software, often called prompts.',\n",
              " 'The bad news is that the information used to generate the response is limited to the information used to train the AI, often a generalized LLM.',\n",
              " 'The LLM’s data may be weeks, months, or years out of date and in a corporate AI chatbot may not include specific information about the organization’s products or services.',\n",
              " 'That can lead to incorrect responses that erode confidence in the technology among customers and employees.',\n",
              " 'What Is Retrieval-Augmented Generation (RAG)?',\n",
              " 'That’s where retrieval-augmented generation (RAG) comes in.',\n",
              " 'RAG provides a way to optimize the output of an LLM with targeted information without modifying the underlying model itself; that targeted information can be more up-to-date than the LLM as well as specific to a particular organization and industry.',\n",
              " 'That means the generative AI system can provide more contextually appropriate answers to prompts as well as base those answers on extremely current data.',\n",
              " 'RAG first came to the attention of generative AI developers after the publication of “Retrieval-Augmented Generation for Knowledge-Intensive NLP Tasks,” a 2020 paper published by Patrick Lewis and a team at Facebook AI Research.',\n",
              " 'The RAG concept has been embraced by many academic and industry researchers, who see it as a way to significantly improve the value of generative AI systems.',\n",
              " 'Retrieval-Augmented Generation Explained Consider a sports league that wants fans and the media to be able to use chat to access its data and answer questions about players, teams, the sport’s history and rules, and current stats and standings.',\n",
              " 'A generalized LLM could answer questions about the history and rules or perhaps describe a particular team’s stadium.',\n",
              " 'It wouldn’t be able to discuss last night’s game or provide current information about a particular athlete’s injury because the LLM wouldn’t have that information—and given that an LLM takes significant computing horsepower to retrain, it isn’t feasible to keep the model current.',\n",
              " 'In addition to the large, fairly static LLM, the sports league owns or can access many other information sources, including databases, data warehouses, documents containing player bios, and news feeds that discuss each game in depth.',\n",
              " 'RAG lets the generative AI ingest this information.',\n",
              " 'Now, the chat can provide information that’s more timely, more contextually appropriate, and more accurate.',\n",
              " 'Simply put, RAG helps LLMs give better answers.',\n",
              " 'Key Takeaways RAG is a relatively new artificial intelligence technique that can improve the quality of generative AI by allowing large language model (LLMs) to tap additional data resources without retraining.',\n",
              " 'RAG models build knowledge repositories based on the organization’s own data, and the repositories can be continually updated to help the generative AI provide timely, contextual answers.',\n",
              " 'Chatbots and other conversational systems that use natural language processing can benefit greatly from RAG and generative AI.',\n",
              " 'Implementing RAG requires technologies such as vector databases, which allow for the rapid coding of new data, and searches against that data to feed into the LLM.',\n",
              " 'How Does Retrieval-Augmented Generation Work?',\n",
              " 'Consider all the information that an organization has—the structured databases, the unstructured PDFs and other documents, the blogs, the news feeds, the chat transcripts from past customer service sessions.',\n",
              " 'In RAG, this vast quantity of dynamic data is translated into a common format and stored in a knowledge library that’s accessible to the generative AI system.',\n",
              " 'The data in that knowledge library is then processed into numerical representations using a special type of algorithm called an embedded language model and stored in a vector database, which can be quickly searched and used to retrieve the correct contextual information.',\n",
              " 'RAG and Large Language Models (LLMs) Now, say an end user sends the generative AI system a specific prompt, for example, “Where will tonight’s game be played, who are the starting players, and what are reporters saying about the matchup?” The query is transformed into a vector and used to query the vector database, which retrieves information relevant to that question’s context.',\n",
              " 'That contextual information plus the original prompt are then fed into the LLM, which generates a text response based on both its somewhat out-of-date generalized knowledge and the extremely timely contextual information.',\n",
              " 'Interestingly, while the process of training the generalized LLM is time-consuming and costly, updates to the RAG model are just the opposite.',\n",
              " 'New data can be loaded into the embedded language model and translated into vectors on a continuous, incremental basis.',\n",
              " 'In fact, the answers from the entire generative AI system can be fed back into the RAG model, improving its performance and accuracy, because, in effect, it knows how it has already answered a similar question.',\n",
              " 'An additional benefit of RAG is that by using the vector database, the generative AI can provide the specific source of data cited in its answer—something LLMs can’t do.',\n",
              " 'Therefore, if there’s an inaccuracy in the generative AI’s output, the document that contains that erroneous information can be quickly identified and corrected, and then the corrected information can be fed into the vector database.',\n",
              " 'In short, RAG provides timeliness, context, and accuracy grounded in evidence to generative AI, going beyond what the LLM itself can provide.',\n",
              " 'Retrieval-Augmented Generation vs. Semantic Search RAG isn’t the only technique used to improve the accuracy of LLM-based generative AI.',\n",
              " 'Another technique is semantic search, which helps the AI system narrow down the meaning of a query by seeking deep understanding of the specific words and phrases in the prompt.',\n",
              " 'Traditional search is focused on keywords.',\n",
              " 'For example, a basic query asking about the tree species native to France might search the AI system’s database using “trees” and “France” as keywords and find data that contains both keywords—but the system might not truly comprehend the meaning of trees in France and therefore may retrieve too much information, too little, or even the wrong information.',\n",
              " 'That keyword-based search might also miss information because the keyword search is too literal: The trees native to Normandy might be missed, even though they’re in France, because that keyword was missing.',\n",
              " 'Semantic search goes beyond keyword search by determining the meaning of questions and source documents and using that meaning to retrieve more accurate results.',\n",
              " 'Semantic search is an integral part of RAG.',\n",
              " 'Using RAG in Chat Applications When a person wants an instant answer to a question, it’s hard to beat the immediacy and usability of a chatbot.',\n",
              " 'Most bots are trained on a finite number of intents—that is, the customer’s desired tasks or outcomes—and they respond to those intents.',\n",
              " 'RAG capabilities can make current bots better by allowing the AI system to provide natural language answers to questions that aren’t in the intent list.',\n",
              " 'The “ask a question, get an answer” paradigm makes chatbots a perfect use case for generative AI, for many reasons.',\n",
              " 'Questions often require specific context to generate an accurate answer, and given that chatbot users’ expectations about relevance and accuracy are often high, it’s clear how RAG techniques apply.',\n",
              " 'In fact, for many organizations, chatbots may indeed be the starting point for RAG and generative AI use.',\n",
              " 'Questions often require specific context to deliver an accurate answer.',\n",
              " 'Customer queries about a newly introduced product, for example, aren’t useful if the data pertains to the previous model and may in fact be misleading.',\n",
              " 'And a hiker who wants to know if a park is open this Sunday expects timely, accurate information about that specific park on that specific date.',\n",
              " 'Benefits of Retrieval-Augmented Generation RAG techniques can be used to improve the quality of a generative AI system’s responses to prompts, beyond what an LLM alone can deliver.',\n",
              " 'Benefits include the following: The RAG has access to information that may be fresher than the data used to train the LLM.',\n",
              " 'Data in the RAG’s knowledge repository can be continually updated without incurring significant costs.',\n",
              " 'The RAG’s knowledge repository can contain data that’s more contextual than the data in a generalized LLM.',\n",
              " 'The source of the information in the RAG’s vector database can be identified.',\n",
              " 'And because the data sources are known, incorrect information in the RAG can be corrected or deleted.',\n",
              " 'Challenges of Retrieval-Augmented Generation Because RAG is a relatively new technology, first proposed in 2020, AI developers are still learning how to best implement its information retrieval mechanisms in generative AI.',\n",
              " 'Some key challenges are Improving organizational knowledge and understanding of RAG because it’s so new Increasing costs; while generative AI with RAG will be more expensive to implement than an LLM on its own, this route is less costly than frequently retraining the LLM itself Determining how to best model the structured and unstructured data within the knowledge library and vector database Developing requirements for a process to incrementally feed data into the RAG system Putting processes in place to handle reports of inaccuracies and to correct or delete those information sources in the RAG system Examples of Retrieval-Augmented Generation There are many possible examples of generative AI augmented by RAG.',\n",
              " 'Cohere, a leader in the field of generative AI and RAG, has written about a chatbot that can provide contextual information about a vacation rental in the Canary Islands, including fact-based answers about beach accessibility, lifeguards on nearby beaches, and the availability of volleyball courts within walking distance.',\n",
              " 'Oracle has described other use cases for RAG, such as analyzing financial reports, assisting with gas and oil discovery, reviewing transcripts from call center customer exchanges, and searching medical databases for relevant research papers.',\n",
              " 'Future of Retrieval-Augmented Generation Today, in the early phases of RAG, the technology is being used to provide timely, accurate, and contextual responses to queries.',\n",
              " 'These use cases are appropriate to chatbots, email, text messaging, and other conversational applications.',\n",
              " 'In the future, possible directions for RAG technology would be to help generative AI take an appropriate action based on contextual information and user prompts.',\n",
              " 'For example, a RAG-augmented AI system might identify the highest-rated beach vacation rental on the Canary Islands and then initiate booking a two-bedroom cabin within walking distance of the beach during a volleyball tournament.',\n",
              " 'RAG might also be able to assist with more sophisticated lines of questioning.',\n",
              " 'Today, generative AI might be able to tell an employee about the company’s tuition reimbursement policy; RAG could add more contextual data to tell the employee which nearby schools have courses that fit into that policy and perhaps recommend programs that are suited to the employee’s jobs and previous training—maybe even help apply for those programs and initiate a reimbursement request.',\n",
              " 'Generative AI With Oracle Oracle offers a variety of advanced cloud-based AI services, including the OCI Generative AI service running on Oracle Cloud Infrastructure (OCI).',\n",
              " 'Oracle’s offerings include robust models based on your organization’s unique data and industry knowledge.',\n",
              " 'Customer data is not shared with LLM providers or seen by other customers, and custom models trained on customer data can only be used by that customer.',\n",
              " 'In addition, Oracle is integrating generative AI across its wide range of cloud applications, and generative AI capabilities are available to developers who use OCI and across its database portfolio.',\n",
              " 'What’s more, Oracle’s AI services offer predictable performance and pricing using single-tenant AI clusters dedicated to your use.',\n",
              " 'The power and capabilities of LLMs and generative AI are widely known and understood—they’ve been the subject of breathless news headlines for the past year.',\n",
              " 'Retrieval-augmented generation builds on the benefits of LLMs by making them more timely, more accurate, and more contextual.',\n",
              " 'For business applications of generative AI, RAG is an important technology to watch, study, and pilot.',\n",
              " 'Oracle offers a modern data platform and low-cost, high-performance AI infrastructure.',\n",
              " 'Additional factors, such as powerful, high-performing models, unrivaled data security, and embedded AI services demonstrate why Oracle’s AI offering is truly built for enterprises.',\n",
              " 'Retrieval-Augmented Generation FAQs Is RAG the same as generative AI?',\n",
              " 'No.',\n",
              " 'Retrieval-augmented generation is a technique that can provide more accurate results to queries than a generative large language model on its own because RAG uses knowledge external to data already contained in the LLM.',\n",
              " 'What type of information is used in RAG?',\n",
              " 'RAG can incorporate data from many sources, such as relational databases, unstructured document repositories, internet data streams, media newsfeeds, audio transcripts, and transaction logs.',\n",
              " 'How does generative AI use RAG?',\n",
              " 'Data from enterprise data sources is embedded into a knowledge repository and then converted to vectors, which are stored in a vector database.',\n",
              " 'When an end user makes a query, the vector database retrieves relevant contextual information.',\n",
              " 'This contextual information, along with the query, is sent to the large language model, which uses the context to create a more timely, accurate, and contextual response.',\n",
              " 'Can a RAG cite references for the data it retrieves?',\n",
              " 'Yes.',\n",
              " 'The vector databases and knowledge repositories used by RAG contain specific information about the sources of information.',\n",
              " 'This means that sources can be cited, and if there’s an error in one of those sources it can be quickly corrected or deleted so that subsequent queries won’t return that incorrect information.']"
            ]
          },
          "metadata": {},
          "execution_count": 131
        }
      ]
    },
    {
      "cell_type": "code",
      "source": [
        "model = SentenceTransformer('all-MiniLM-L6-v2')\n",
        "embeddings = model.encode(sentences, convert_to_numpy = True)"
      ],
      "metadata": {
        "id": "s7lCVbO6bZrc"
      },
      "execution_count": 132,
      "outputs": []
    },
    {
      "cell_type": "code",
      "source": [
        "embeddings.shape"
      ],
      "metadata": {
        "colab": {
          "base_uri": "https://localhost:8080/"
        },
        "id": "2z_Wxcb3p_DM",
        "outputId": "9933876a-e35e-4faa-e1e6-9b729da2b0fb"
      },
      "execution_count": 133,
      "outputs": [
        {
          "output_type": "execute_result",
          "data": {
            "text/plain": [
              "(232, 384)"
            ]
          },
          "metadata": {},
          "execution_count": 133
        }
      ]
    },
    {
      "cell_type": "code",
      "source": [
        "embeddings"
      ],
      "metadata": {
        "id": "WvX5zTQDhmco",
        "colab": {
          "base_uri": "https://localhost:8080/"
        },
        "outputId": "cf6a4983-cf47-4f1b-d99e-a172be633bbe"
      },
      "execution_count": 134,
      "outputs": [
        {
          "output_type": "execute_result",
          "data": {
            "text/plain": [
              "array([[-0.12751824,  0.01289594, -0.01769432, ...,  0.02670551,\n",
              "        -0.02776622,  0.02087011],\n",
              "       [-0.06509098, -0.01325854,  0.02227048, ...,  0.03335963,\n",
              "         0.01122819,  0.02471756],\n",
              "       [ 0.04819336, -0.10355049,  0.00281728, ..., -0.00797717,\n",
              "        -0.05605378, -0.00971238],\n",
              "       ...,\n",
              "       [-0.12919769,  0.0351914 ,  0.01423578, ..., -0.03317212,\n",
              "         0.07071075, -0.0186689 ],\n",
              "       [ 0.01188224,  0.0346556 , -0.04887683, ...,  0.00467257,\n",
              "         0.04265281,  0.03269922],\n",
              "       [-0.06443138, -0.00091817, -0.05409248, ...,  0.04765166,\n",
              "         0.06305917,  0.02972038]], dtype=float32)"
            ]
          },
          "metadata": {},
          "execution_count": 134
        }
      ]
    },
    {
      "cell_type": "code",
      "source": [
        "def elbow_method(embeddings, max_k=25):\n",
        "    distortions = []\n",
        "    for k in range(1, max_k + 1):\n",
        "        kmeans = KMeans(n_clusters=k, random_state=42)\n",
        "        kmeans.fit(embeddings)\n",
        "        distortions.append(kmeans.inertia_)\n",
        "    return distortions\n",
        "\n",
        "max_k = 15\n",
        "\n",
        "distortions = elbow_method(embeddings, max_k=max_k)\n",
        "\n",
        "plt.figure(figsize=(8, 5))\n",
        "plt.plot(range(1, max_k + 1), distortions, marker='o', color='b')\n",
        "plt.title('Elbow Method for Optimal k')\n",
        "plt.xlabel('Number of Clusters (k)')\n",
        "plt.ylabel('Distortion (Inertia)')\n",
        "plt.xticks(range(1, max_k + 1))\n",
        "plt.grid()\n",
        "plt.show()"
      ],
      "metadata": {
        "colab": {
          "base_uri": "https://localhost:8080/",
          "height": 487
        },
        "id": "fWbampObikPI",
        "outputId": "beb82c94-db98-4ca0-8f1b-4cdacd4a8d0f"
      },
      "execution_count": 135,
      "outputs": [
        {
          "output_type": "display_data",
          "data": {
            "text/plain": [
              "<Figure size 800x500 with 1 Axes>"
            ],
            "image/png": "[encoded data removed]"
          },
          "metadata": {}
        }
      ]
    },
    {
      "cell_type": "code",
      "source": [
        "def silhouette_scores(embeddings, max_k=10):\n",
        "    scores = []\n",
        "    for k in range(2, max_k + 1):  # Silhouette score requires at least 2 clusters\n",
        "        kmeans = KMeans(n_clusters=k, random_state=42)\n",
        "        cluster_labels = kmeans.fit_predict(embeddings)\n",
        "        score = silhouette_score(embeddings, cluster_labels)\n",
        "        scores.append(score)\n",
        "    return scores\n",
        "\n",
        "# Calculate silhouette scores\n",
        "max_k = 15\n",
        "silhouette_scores_list = silhouette_scores(embeddings, max_k=max_k)\n",
        "\n",
        "# Plot the silhouette scores\n",
        "plt.figure(figsize=(8, 5))\n",
        "plt.plot(range(2, max_k + 1), silhouette_scores_list, marker='o', color='g')\n",
        "plt.title('Silhouette Scores for Optimal k')\n",
        "plt.xlabel('Number of Clusters (k)')\n",
        "plt.ylabel('Silhouette Score')\n",
        "plt.xticks(range(2, max_k + 1))\n",
        "plt.grid()\n",
        "plt.show()"
      ],
      "metadata": {
        "colab": {
          "base_uri": "https://localhost:8080/",
          "height": 487
        },
        "id": "Q7gE4a37jSRN",
        "outputId": "c2a2dc77-27e4-4ba1-b845-96fcba388fc9"
      },
      "execution_count": 136,
      "outputs": [
        {
          "output_type": "display_data",
          "data": {
            "text/plain": [
              "<Figure size 800x500 with 1 Axes>"
            ],
            "image/png": "[encoded data removed]"
          },
          "metadata": {}
        }
      ]
    },
    {
      "cell_type": "code",
      "source": [
        "n_clusters = 10\n",
        "\n",
        "# Apply KMeans clustering\n",
        "kmeans = KMeans(n_clusters=n_clusters, random_state=42)\n",
        "kmeans.fit(embeddings)\n",
        "\n",
        "# Get cluster labels\n",
        "cluster_labels = kmeans.labels_\n",
        "\n",
        "# Separate embeddings by clusters\n",
        "chunks = {i: [] for i in range(n_clusters)}\n",
        "for idx, label in enumerate(cluster_labels):\n",
        "    chunks[label].append(embeddings[idx])\n",
        "\n",
        "# Convert chunks to numpy arrays\n",
        "chunks = {key: np.array(value) for key, value in chunks.items()}"
      ],
      "metadata": {
        "id": "CnTQ_ZVpkA0G"
      },
      "execution_count": 137,
      "outputs": []
    },
    {
      "cell_type": "code",
      "source": [
        "chunks"
      ],
      "metadata": {
        "colab": {
          "base_uri": "https://localhost:8080/"
        },
        "collapsed": true,
        "id": "9ZVn3k5dlmBc",
        "outputId": "7abcc313-2bb6-49ef-acba-d3faf2e08b05"
      },
      "execution_count": 138,
      "outputs": [
        {
          "output_type": "execute_result",
          "data": {
            "text/plain": [
              "{0: array([[ 0.00653037,  0.02076948, -0.00057105, ...,  0.09527557,\n",
              "         -0.03733634,  0.01172701],\n",
              "        [ 0.06162129, -0.05024869,  0.02451289, ...,  0.07237758,\n",
              "         -0.10747138,  0.01706683],\n",
              "        [ 0.04424914, -0.04170283,  0.01515204, ...,  0.01166166,\n",
              "         -0.0299067 , -0.0134074 ],\n",
              "        ...,\n",
              "        [ 0.03797891, -0.02593031, -0.06811847, ...,  0.02276054,\n",
              "         -0.02315169,  0.04700333],\n",
              "        [ 0.01236148,  0.01259603, -0.00438966, ...,  0.11714011,\n",
              "         -0.0023437 , -0.00465269],\n",
              "        [-0.00024769, -0.08716257,  0.01316435, ..., -0.0325728 ,\n",
              "         -0.05612245, -0.04530084]], dtype=float32),\n",
              " 1: array([[-0.03932015, -0.03438421,  0.00565081, ...,  0.00046228,\n",
              "          0.01067668,  0.03162077],\n",
              "        [-0.05326812, -0.01492053, -0.04931074, ...,  0.00658254,\n",
              "          0.09148338,  0.09207619],\n",
              "        [-0.08577175, -0.02280188, -0.05356457, ...,  0.01025227,\n",
              "          0.02800286,  0.07306206],\n",
              "        [-0.02719283, -0.07455506, -0.07568567, ..., -0.06896795,\n",
              "          0.11977713,  0.07988767],\n",
              "        [-0.0320617 , -0.04671163, -0.00302315, ..., -0.04660657,\n",
              "          0.11772066,  0.0212474 ]], dtype=float32),\n",
              " 2: array([[ 0.04819336, -0.10355049,  0.00281728, ..., -0.00797717,\n",
              "         -0.05605378, -0.00971238],\n",
              "        [ 0.01774056, -0.05797415,  0.00873997, ...,  0.02507077,\n",
              "         -0.03084807, -0.00626341],\n",
              "        [-0.07198822,  0.00757942, -0.04034671, ...,  0.03503025,\n",
              "         -0.04333111,  0.05211185],\n",
              "        ...,\n",
              "        [-0.03348152, -0.04836933, -0.06440675, ...,  0.05193   ,\n",
              "          0.06852564,  0.02543941],\n",
              "        [-0.04206217, -0.10237002, -0.1020935 , ..., -0.02308551,\n",
              "          0.05674484,  0.07164508],\n",
              "        [ 0.06001743, -0.04197674, -0.06607819, ..., -0.01436002,\n",
              "         -0.05594699,  0.02373412]], dtype=float32),\n",
              " 3: array([[-0.10620873,  0.01525934,  0.09688609, ...,  0.05477285,\n",
              "          0.0595089 ,  0.00118801],\n",
              "        [-0.08149704, -0.01033082, -0.00079321, ...,  0.04501809,\n",
              "          0.06883191,  0.00998435],\n",
              "        [-0.08591741,  0.03576851,  0.11143892, ..., -0.01489994,\n",
              "          0.0502969 ,  0.00781418],\n",
              "        ...,\n",
              "        [-0.08568778,  0.02742143,  0.04014405, ...,  0.01929605,\n",
              "          0.03754498,  0.00588308],\n",
              "        [-0.11378706, -0.04269732, -0.0062581 , ...,  0.07827858,\n",
              "          0.02527983,  0.01779607],\n",
              "        [-0.09315269,  0.02522219,  0.08941144, ...,  0.05449105,\n",
              "          0.05863739, -0.02848653]], dtype=float32),\n",
              " 4: array([[-0.12751824,  0.01289594, -0.01769432, ...,  0.02670551,\n",
              "         -0.02776622,  0.02087011],\n",
              "        [-0.08212694, -0.01003115, -0.04537413, ...,  0.04338799,\n",
              "         -0.06561147,  0.0387565 ],\n",
              "        [-0.02823809, -0.03204469, -0.02147207, ...,  0.10841992,\n",
              "         -0.08977151,  0.0655754 ],\n",
              "        ...,\n",
              "        [-0.10460493,  0.03195389, -0.02259539, ...,  0.01603882,\n",
              "         -0.04590288,  0.06206176],\n",
              "        [-0.02966872, -0.01872402,  0.00803612, ...,  0.07471532,\n",
              "         -0.10576744,  0.01036343],\n",
              "        [-0.0764823 , -0.03258596,  0.01050573, ...,  0.03648713,\n",
              "         -0.01014771,  0.06558827]], dtype=float32),\n",
              " 5: array([[ 0.00036304, -0.10755386, -0.01018996, ...,  0.04243759,\n",
              "         -0.00286475, -0.03771486],\n",
              "        [-0.03666703,  0.07552186,  0.02188777, ...,  0.03441697,\n",
              "         -0.01179641,  0.08158936],\n",
              "        [-0.08902881,  0.01231612, -0.07319301, ..., -0.002398  ,\n",
              "          0.04628156,  0.07616836],\n",
              "        ...,\n",
              "        [-0.02572288, -0.05947311,  0.0598219 , ..., -0.07027971,\n",
              "          0.05440703,  0.08612164],\n",
              "        [ 0.02546519, -0.04527044,  0.07530564, ..., -0.01393182,\n",
              "         -0.08671271, -0.03763727],\n",
              "        [-0.06443138, -0.00091817, -0.05409248, ...,  0.04765166,\n",
              "          0.06305917,  0.02972038]], dtype=float32),\n",
              " 6: array([[-0.01710627,  0.01131468,  0.0179257 , ..., -0.0818496 ,\n",
              "          0.00883133,  0.01818926],\n",
              "        [ 0.03679276,  0.03210606, -0.0389211 , ...,  0.05366338,\n",
              "         -0.07221066,  0.00627225],\n",
              "        [-0.05709515,  0.02878293,  0.00903992, ...,  0.0955562 ,\n",
              "          0.06989834,  0.00901527],\n",
              "        ...,\n",
              "        [-0.09055622, -0.03433973,  0.01877088, ...,  0.1199987 ,\n",
              "          0.04837058,  0.02759619],\n",
              "        [-0.0726951 ,  0.01450976,  0.0067802 , ..., -0.01927622,\n",
              "          0.0276712 ,  0.01633652],\n",
              "        [-0.12919769,  0.0351914 ,  0.01423578, ..., -0.03317212,\n",
              "          0.07071075, -0.0186689 ]], dtype=float32),\n",
              " 7: array([[ 0.00771281,  0.05016687,  0.02064577, ...,  0.04467225,\n",
              "          0.09058651,  0.00034021],\n",
              "        [-0.00712475,  0.02586659,  0.02169967, ..., -0.02169944,\n",
              "          0.03505949,  0.03176929],\n",
              "        [-0.01159802, -0.03294065, -0.03458632, ...,  0.02052106,\n",
              "          0.02409759,  0.02489914],\n",
              "        ...,\n",
              "        [ 0.03899037, -0.0039452 , -0.07816701, ..., -0.01640704,\n",
              "          0.0714689 , -0.0223371 ],\n",
              "        [ 0.05828492,  0.02876257, -0.08245055, ...,  0.06007478,\n",
              "         -0.00365724, -0.00125477],\n",
              "        [ 0.0231906 ,  0.03506126, -0.00539137, ...,  0.13584289,\n",
              "          0.00078337,  0.02015729]], dtype=float32),\n",
              " 8: array([[-0.01591204, -0.03556608, -0.0044142 , ...,  0.0043486 ,\n",
              "          0.00982224,  0.03204119],\n",
              "        [-0.06279726, -0.01043529, -0.0044497 , ...,  0.02420804,\n",
              "         -0.0020871 , -0.03665189],\n",
              "        [-0.14279558, -0.03002413,  0.0102784 , ...,  0.01749731,\n",
              "          0.00820221,  0.00977257],\n",
              "        ...,\n",
              "        [-0.08279502, -0.06429636,  0.00983142, ...,  0.01204094,\n",
              "          0.11147632, -0.00675939],\n",
              "        [-0.00371998, -0.08658262, -0.02515114, ..., -0.03435485,\n",
              "          0.03770696, -0.01742926],\n",
              "        [-0.00979206, -0.01966183, -0.0049997 , ..., -0.0281986 ,\n",
              "          0.07380661,  0.00131718]], dtype=float32),\n",
              " 9: array([[-0.06509098, -0.01325854,  0.02227048, ...,  0.03335963,\n",
              "          0.01122819,  0.02471756],\n",
              "        [-0.08209604,  0.09216508,  0.05418096, ..., -0.01977584,\n",
              "          0.03868715,  0.03581056],\n",
              "        [-0.05049631,  0.07401263,  0.03981725, ...,  0.06617358,\n",
              "          0.03557945, -0.00332012],\n",
              "        ...,\n",
              "        [-0.03887677,  0.02150311, -0.03622337, ..., -0.02139371,\n",
              "          0.06661193,  0.02129005],\n",
              "        [-0.11377483,  0.07481176, -0.05946325, ..., -0.0241952 ,\n",
              "          0.05596616,  0.02311588],\n",
              "        [ 0.01188224,  0.0346556 , -0.04887683, ...,  0.00467257,\n",
              "          0.04265281,  0.03269922]], dtype=float32)}"
            ]
          },
          "metadata": {},
          "execution_count": 138
        }
      ]
    },
    {
      "cell_type": "code",
      "execution_count": 139,
      "metadata": {
        "id": "W7jU9Q-uHH5K"
      },
      "outputs": [],
      "source": [
        "faiss_indices = {}\n",
        "\n",
        "for cluster_id, cluster_embeddings in chunks.items():\n",
        "    dimension = cluster_embeddings.shape[1]\n",
        "    index = faiss.IndexFlatL2(dimension)\n",
        "\n",
        "    index.add(cluster_embeddings)\n",
        "\n",
        "    faiss_indices[cluster_id] = index"
      ]
    },
    {
      "cell_type": "code",
      "source": [
        "faiss_indices"
      ],
      "metadata": {
        "colab": {
          "base_uri": "https://localhost:8080/"
        },
        "id": "K-VBQFpVnCCe",
        "outputId": "238ae766-0993-42c1-9f07-de3391680433"
      },
      "execution_count": 140,
      "outputs": [
        {
          "output_type": "execute_result",
          "data": {
            "text/plain": [
              "{0: <faiss.swigfaiss_avx512.IndexFlatL2; proxy of <Swig Object of type 'faiss::IndexFlatL2 *' at 0x7be735db7c30> >,\n",
              " 1: <faiss.swigfaiss_avx512.IndexFlatL2; proxy of <Swig Object of type 'faiss::IndexFlatL2 *' at 0x7be5cdbad1a0> >,\n",
              " 2: <faiss.swigfaiss_avx512.IndexFlatL2; proxy of <Swig Object of type 'faiss::IndexFlatL2 *' at 0x7be5cdbac570> >,\n",
              " 3: <faiss.swigfaiss_avx512.IndexFlatL2; proxy of <Swig Object of type 'faiss::IndexFlatL2 *' at 0x7be5cdcda610> >,\n",
              " 4: <faiss.swigfaiss_avx512.IndexFlatL2; proxy of <Swig Object of type 'faiss::IndexFlatL2 *' at 0x7be5cdcd9860> >,\n",
              " 5: <faiss.swigfaiss_avx512.IndexFlatL2; proxy of <Swig Object of type 'faiss::IndexFlatL2 *' at 0x7be5cdcda520> >,\n",
              " 6: <faiss.swigfaiss_avx512.IndexFlatL2; proxy of <Swig Object of type 'faiss::IndexFlatL2 *' at 0x7be5cdcd93e0> >,\n",
              " 7: <faiss.swigfaiss_avx512.IndexFlatL2; proxy of <Swig Object of type 'faiss::IndexFlatL2 *' at 0x7be5cd5ce7c0> >,\n",
              " 8: <faiss.swigfaiss_avx512.IndexFlatL2; proxy of <Swig Object of type 'faiss::IndexFlatL2 *' at 0x7be5cd5cf180> >,\n",
              " 9: <faiss.swigfaiss_avx512.IndexFlatL2; proxy of <Swig Object of type 'faiss::IndexFlatL2 *' at 0x7be5cd5ccfc0> >}"
            ]
          },
          "metadata": {},
          "execution_count": 140
        }
      ]
    },
    {
      "cell_type": "markdown",
      "metadata": {
        "id": "sToXoJscHH5M"
      },
      "source": [
        "# RAG pipeline"
      ]
    },
    {
      "cell_type": "markdown",
      "metadata": {
        "id": "RV0P1QUqHH5N"
      },
      "source": [
        "## Retrieval (3 nearest clusters using similarity search)"
      ]
    },
    {
      "cell_type": "code",
      "execution_count": 141,
      "metadata": {
        "id": "hWsGXbBbHH5N"
      },
      "outputs": [],
      "source": [
        "query_sentence = query\n",
        "query_embedding = model.encode([query_sentence], convert_to_numpy=True)\n",
        "\n",
        "predicted_cluster = kmeans.predict(query_embedding)[0]\n",
        "relevant_index = faiss_indices[predicted_cluster]\n",
        "\n",
        "D, I = relevant_index.search(query_embedding, k=5)  # Top 5 nearest neighbors"
      ]
    },
    {
      "cell_type": "code",
      "source": [
        "D"
      ],
      "metadata": {
        "colab": {
          "base_uri": "https://localhost:8080/"
        },
        "id": "3S5-0rppngeQ",
        "outputId": "f32dbe84-ea84-4f13-c688-ac121cf8b8d0"
      },
      "execution_count": 142,
      "outputs": [
        {
          "output_type": "execute_result",
          "data": {
            "text/plain": [
              "array([[0.56204164, 0.7153136 , 0.7776549 , 0.7838857 , 0.83863693]],\n",
              "      dtype=float32)"
            ]
          },
          "metadata": {},
          "execution_count": 142
        }
      ]
    },
    {
      "cell_type": "code",
      "source": [
        "I"
      ],
      "metadata": {
        "colab": {
          "base_uri": "https://localhost:8080/"
        },
        "id": "9tWF5kAunjyt",
        "outputId": "ccc46aff-5377-4631-8575-524d1aef52b7"
      },
      "execution_count": 143,
      "outputs": [
        {
          "output_type": "execute_result",
          "data": {
            "text/plain": [
              "array([[ 1, 19, 40, 25,  5]])"
            ]
          },
          "metadata": {},
          "execution_count": 143
        }
      ]
    },
    {
      "cell_type": "code",
      "source": [
        "relevant_passages = [sentences[index] for index in I[0]]"
      ],
      "metadata": {
        "id": "AINR5XaHn376"
      },
      "execution_count": 144,
      "outputs": []
    },
    {
      "cell_type": "code",
      "source": [
        "relevant_passages"
      ],
      "metadata": {
        "colab": {
          "base_uri": "https://localhost:8080/"
        },
        "id": "xUZ3OU1Sn7sH",
        "outputId": "42c0b0bb-589b-456e-e631-1e90607d83ac"
      },
      "execution_count": 145,
      "outputs": [
        {
          "output_type": "execute_result",
          "data": {
            "text/plain": [
              "['RAG (Retrieval-Augmented Generation) is an AI framework that combines the strengths of traditional information retrieval systems (such as search and databases) with the capabilities of generative large language models (LLMs).',\n",
              " 'Search with vector databases and relevancy re-rankers RAGs usually retrieve facts via search, and modern search engines now leverage vector databases to efficiently retrieve relevant documents.',\n",
              " 'BigQueryLarge datasets that you can use to train machine learning models, including models for Vertex AI Vector Search.',\n",
              " 'You need the best semantic search on top of a curated knowledge base to ensure that the retrieved information is relevant to the input query or context.',\n",
              " 'Once retrieved, the relevant information undergoes pre-processing, including tokenization, stemming, and removal of stop words.']"
            ]
          },
          "metadata": {},
          "execution_count": 145
        }
      ]
    },
    {
      "cell_type": "code",
      "execution_count": 146,
      "metadata": {
        "id": "pXD7oKSXHH5N"
      },
      "outputs": [],
      "source": [
        "relevant_passages_str = ''.join(relevant_passages)"
      ]
    },
    {
      "cell_type": "code",
      "execution_count": 147,
      "metadata": {
        "colab": {
          "base_uri": "https://localhost:8080/",
          "height": 105
        },
        "id": "uT4y60wcHH5O",
        "outputId": "9b3b8f94-3cd7-42dd-9a8f-d0d08c76adc3"
      },
      "outputs": [
        {
          "output_type": "execute_result",
          "data": {
            "text/plain": [
              "'RAG (Retrieval-Augmented Generation) is an AI framework that combines the strengths of traditional information retrieval systems (such as search and databases) with the capabilities of generative large language models (LLMs).Search with vector databases and relevancy re-rankers RAGs usually retrieve facts via search, and modern search engines now leverage vector databases to efficiently retrieve relevant documents.BigQueryLarge datasets that you can use to train machine learning models, including models for Vertex AI Vector Search.You need the best semantic search on top of a curated knowledge base to ensure that the retrieved information is relevant to the input query or context.Once retrieved, the relevant information undergoes pre-processing, including tokenization, stemming, and removal of stop words.'"
            ],
            "application/vnd.google.colaboratory.intrinsic+json": {
              "type": "string"
            }
          },
          "metadata": {},
          "execution_count": 147
        }
      ],
      "source": [
        "relevant_passages_str"
      ]
    },
    {
      "cell_type": "code",
      "source": [
        "len(relevant_passages_str)"
      ],
      "metadata": {
        "colab": {
          "base_uri": "https://localhost:8080/"
        },
        "id": "BRwcS9TfjVq_",
        "outputId": "6a0aff6e-51a4-4b05-b25c-741d63049801"
      },
      "execution_count": 148,
      "outputs": [
        {
          "output_type": "execute_result",
          "data": {
            "text/plain": [
              "816"
            ]
          },
          "metadata": {},
          "execution_count": 148
        }
      ]
    },
    {
      "cell_type": "markdown",
      "metadata": {
        "id": "WzNkN_IZHH5O"
      },
      "source": [
        "## Augmented generation (with RAG)"
      ]
    },
    {
      "cell_type": "code",
      "source": [
        "query = \"What is \" + query\n",
        "query"
      ],
      "metadata": {
        "colab": {
          "base_uri": "https://localhost:8080/",
          "height": 35
        },
        "id": "q_89Hh4gu3xA",
        "outputId": "bf14cc08-82cc-4703-a8a7-c0348946c096"
      },
      "execution_count": 169,
      "outputs": [
        {
          "output_type": "execute_result",
          "data": {
            "text/plain": [
              "'What is RAG system?'"
            ],
            "application/vnd.google.colaboratory.intrinsic+json": {
              "type": "string"
            }
          },
          "metadata": {},
          "execution_count": 169
        }
      ]
    },
    {
      "cell_type": "code",
      "execution_count": 170,
      "metadata": {
        "id": "QP4KGAXVHH5O"
      },
      "outputs": [],
      "source": [
        "from transformers import AutoModelForCausalLM, AutoTokenizer\n",
        "\n",
        "model_name = \"Qwen/Qwen2.5-Coder-0.5B-Instruct\"\n",
        "\n",
        "model = AutoModelForCausalLM.from_pretrained(\n",
        "    model_name,\n",
        "    torch_dtype=\"auto\",\n",
        "    device_map=\"auto\"\n",
        ")\n",
        "tokenizer = AutoTokenizer.from_pretrained(model_name)\n",
        "\n",
        "\n",
        "messages = [\n",
        "    {\"role\": \"system\", \"content\": relevant_passages_str},\n",
        "    {\"role\": \"user\", \"content\": query}\n",
        "]\n",
        "text = tokenizer.apply_chat_template(\n",
        "    messages,\n",
        "    tokenize=False,\n",
        "    add_generation_prompt=True\n",
        ")\n",
        "model_inputs = tokenizer([text], return_tensors=\"pt\").to(model.device)\n",
        "\n",
        "generated_ids = model.generate(\n",
        "    **model_inputs,\n",
        "    max_new_tokens=512\n",
        ")\n",
        "generated_ids = [\n",
        "    output_ids[len(input_ids):] for input_ids, output_ids in zip(model_inputs.input_ids, generated_ids)\n",
        "]\n",
        "\n",
        "response = tokenizer.batch_decode(generated_ids, skip_special_tokens=True)[0]"
      ]
    },
    {
      "cell_type": "code",
      "execution_count": 174,
      "metadata": {
        "colab": {
          "base_uri": "https://localhost:8080/"
        },
        "id": "AwAFtbbfHH5O",
        "outputId": "60d570cb-d4ab-4c22-aa41-c5588875f64b"
      },
      "outputs": [
        {
          "output_type": "stream",
          "name": "stdout",
          "text": [
            "Question:  What is RAG system?\n",
            "Response:  RAG (Relevant Agent) is an AI-powered conversational assistant that can help users with various tasks, including answering questions, providing information, and even assisting in generating text. It works by analyzing large amounts of data to understand patterns and relationships between users' inputs, allowing it to provide accurate and relevant responses.\n",
            "Sources:\n",
            "https://cloud.google.com/use-cases/retrieval-augmented-generation\n",
            "https://aws.amazon.com/what-is/retrieval-augmented-generation/\n",
            "https://www.oracle.com/artificial-intelligence/generative-ai/retrieval-augmented-generation-rag/\n"
          ]
        }
      ],
      "source": [
        "print(\"Question: \", query)\n",
        "print(\"Response: \", response)\n",
        "print(\"Sources:\")\n",
        "for url in final_urls:\n",
        "  print(url)"
      ]
    },
    {
      "cell_type": "code",
      "execution_count": null,
      "metadata": {
        "id": "1G1E6r3mMUpf"
      },
      "outputs": [],
      "source": []
    },
    {
      "cell_type": "markdown",
      "source": [
        "## Control data (same prompt without RAG)"
      ],
      "metadata": {
        "id": "8KwDxVi_0jIr"
      }
    },
    {
      "cell_type": "code",
      "source": [
        "model_name = \"Qwen/Qwen2.5-Coder-0.5B-Instruct\"\n",
        "\n",
        "model = AutoModelForCausalLM.from_pretrained(\n",
        "    model_name,\n",
        "    torch_dtype=\"auto\",\n",
        "    device_map=\"auto\"\n",
        ")\n",
        "tokenizer = AutoTokenizer.from_pretrained(model_name)\n",
        "\n",
        "\n",
        "messages = [\n",
        "    {\"role\": \"system\", \"content\": \"You are Qwen, created by Alibaba Cloud. You are a helpful assistant.\"},\n",
        "    {\"role\": \"user\", \"content\": query}\n",
        "]\n",
        "text = tokenizer.apply_chat_template(\n",
        "    messages,\n",
        "    tokenize=False,\n",
        "    add_generation_prompt=True\n",
        ")\n",
        "model_inputs = tokenizer([text], return_tensors=\"pt\").to(model.device)\n",
        "\n",
        "generated_ids = model.generate(\n",
        "    **model_inputs,\n",
        "    max_new_tokens=512\n",
        ")\n",
        "generated_ids = [\n",
        "    output_ids[len(input_ids):] for input_ids, output_ids in zip(model_inputs.input_ids, generated_ids)\n",
        "]\n",
        "\n",
        "response = tokenizer.batch_decode(generated_ids, skip_special_tokens=True)[0]"
      ],
      "metadata": {
        "id": "amL5fgNv0P-a"
      },
      "execution_count": 172,
      "outputs": []
    },
    {
      "cell_type": "code",
      "source": [
        "print(\"Question: \", query)\n",
        "print(\"Response: \", response)"
      ],
      "metadata": {
        "id": "nzO0vMZY0TDk",
        "colab": {
          "base_uri": "https://localhost:8080/"
        },
        "outputId": "01a23db5-5b96-4882-c211-628cd88934d1"
      },
      "execution_count": 173,
      "outputs": [
        {
          "output_type": "stream",
          "name": "stdout",
          "text": [
            "Question:  What is RAG system?\n",
            "Response:  RAG (Relevant Agent) is an AI-powered conversational assistant that can help users with various tasks, including answering questions, providing information, and even assisting in generating text. It works by analyzing large amounts of data to understand patterns and relationships between users' inputs, allowing it to provide accurate and relevant responses.\n"
          ]
        }
      ]
    },
    {
      "cell_type": "code",
      "source": [],
      "metadata": {
        "id": "MC1qgr5D0pKZ"
      },
      "execution_count": null,
      "outputs": []
    }
  ],
  "metadata": {
    "accelerator": "GPU",
    "colab": {
      "gpuType": "T4",
      "provenance": [],
      "collapsed_sections": [
        "RV0P1QUqHH5N"
      ]
    },
    "kernelspec": {
      "display_name": "Python 3",
      "name": "python3"
    },
    "language_info": {
      "codemirror_mode": {
        "name": "ipython",
        "version": 3
      },
      "file_extension": ".py",
      "mimetype": "text/x-python",
      "name": "python",
      "nbconvert_exporter": "python",
      "pygments_lexer": "ipython3",
      "version": "3.10.11"
    }
  },
  "nbformat": 4,
  "nbformat_minor": 0
}